{
 "cells": [
  {
   "cell_type": "markdown",
   "metadata": {},
   "source": [
    "# Focused Analysis\n",
    "\n",
    "In our exploratory analysis, we looked at various views of data to find some interesting questions we wanted to ask about pothole complaints in 311 and how those complaints were handled by the DOT.  We came up with two specific ideas to investigate more closely:\n",
    "\n",
    "* Is Staten Island experiencing statistically significant longer resolution times?\n",
    "* Is response time disparity per borough getting better over time?\n",
    "\n",
    "Let's bring in our cleaned and prepared data and take a closer look!  Because we're interested in borough-to-borough comparisons, we'll eliminate rows that have \"Unspecified\" boroughs."
   ]
  },
  {
   "cell_type": "code",
   "execution_count": 1,
   "metadata": {},
   "outputs": [
    {
     "data": {
      "text/html": [
       "<div>\n",
       "<style scoped>\n",
       "    .dataframe tbody tr th:only-of-type {\n",
       "        vertical-align: middle;\n",
       "    }\n",
       "\n",
       "    .dataframe tbody tr th {\n",
       "        vertical-align: top;\n",
       "    }\n",
       "\n",
       "    .dataframe thead th {\n",
       "        text-align: right;\n",
       "    }\n",
       "</style>\n",
       "<table border=\"1\" class=\"dataframe\">\n",
       "  <thead>\n",
       "    <tr style=\"text-align: right;\">\n",
       "      <th></th>\n",
       "      <th>created_date</th>\n",
       "      <th>complaint_type</th>\n",
       "      <th>incident_zip</th>\n",
       "      <th>cross_street_1</th>\n",
       "      <th>cross_street_2</th>\n",
       "      <th>address_type</th>\n",
       "      <th>city</th>\n",
       "      <th>status</th>\n",
       "      <th>community_board</th>\n",
       "      <th>borough</th>\n",
       "      <th>open_data_channel_type</th>\n",
       "      <th>park_borough</th>\n",
       "      <th>latitude</th>\n",
       "      <th>longitude</th>\n",
       "      <th>resolved_date</th>\n",
       "      <th>days_to_close</th>\n",
       "      <th>shorter_description</th>\n",
       "      <th>year</th>\n",
       "    </tr>\n",
       "  </thead>\n",
       "  <tbody>\n",
       "    <tr>\n",
       "      <th>0</th>\n",
       "      <td>2016-11-01 15:01:46</td>\n",
       "      <td>Street Condition</td>\n",
       "      <td>NaN</td>\n",
       "      <td>AVENUE M</td>\n",
       "      <td>AVENUE N</td>\n",
       "      <td>BLOCKFACE</td>\n",
       "      <td>NaN</td>\n",
       "      <td>Closed</td>\n",
       "      <td>Unspecified BROOKLYN</td>\n",
       "      <td>BROOKLYN</td>\n",
       "      <td>UNKNOWN</td>\n",
       "      <td>BROOKLYN</td>\n",
       "      <td>NaN</td>\n",
       "      <td>NaN</td>\n",
       "      <td>2016-11-02 09:45:00</td>\n",
       "      <td>1.0</td>\n",
       "      <td>Repaired: Inspected and Repaired</td>\n",
       "      <td>2016</td>\n",
       "    </tr>\n",
       "    <tr>\n",
       "      <th>1</th>\n",
       "      <td>2019-04-01 22:22:27</td>\n",
       "      <td>Street Condition</td>\n",
       "      <td>10306.0</td>\n",
       "      <td>JACQUES AVENUE</td>\n",
       "      <td>NEW DORP LANE</td>\n",
       "      <td>ADDRESS</td>\n",
       "      <td>STATEN ISLAND</td>\n",
       "      <td>Closed</td>\n",
       "      <td>02 STATEN ISLAND</td>\n",
       "      <td>STATEN ISLAND</td>\n",
       "      <td>UNKNOWN</td>\n",
       "      <td>STATEN ISLAND</td>\n",
       "      <td>40.572961</td>\n",
       "      <td>-74.113157</td>\n",
       "      <td>2019-04-02 10:51:00</td>\n",
       "      <td>1.0</td>\n",
       "      <td>Not Repaired: Did Not Find</td>\n",
       "      <td>2019</td>\n",
       "    </tr>\n",
       "    <tr>\n",
       "      <th>2</th>\n",
       "      <td>2013-01-09 11:20:10</td>\n",
       "      <td>Street Condition</td>\n",
       "      <td>NaN</td>\n",
       "      <td>DELANCEY STREET</td>\n",
       "      <td>WILLIAMSBURG BRIDGE</td>\n",
       "      <td>BLOCKFACE</td>\n",
       "      <td>NEW YORK</td>\n",
       "      <td>Closed</td>\n",
       "      <td>Unspecified MANHATTAN</td>\n",
       "      <td>MANHATTAN</td>\n",
       "      <td>UNKNOWN</td>\n",
       "      <td>MANHATTAN</td>\n",
       "      <td>NaN</td>\n",
       "      <td>NaN</td>\n",
       "      <td>2013-01-10 14:04:00</td>\n",
       "      <td>1.0</td>\n",
       "      <td>Repaired: Inspected and Repaired</td>\n",
       "      <td>2013</td>\n",
       "    </tr>\n",
       "    <tr>\n",
       "      <th>3</th>\n",
       "      <td>2013-01-10 14:45:07</td>\n",
       "      <td>Street Condition</td>\n",
       "      <td>11101.0</td>\n",
       "      <td>40 AVENUE</td>\n",
       "      <td>41 AVENUE</td>\n",
       "      <td>BLOCKFACE</td>\n",
       "      <td>Long Island City</td>\n",
       "      <td>Closed</td>\n",
       "      <td>Unspecified QUEENS</td>\n",
       "      <td>QUEENS</td>\n",
       "      <td>UNKNOWN</td>\n",
       "      <td>QUEENS</td>\n",
       "      <td>NaN</td>\n",
       "      <td>NaN</td>\n",
       "      <td>2013-01-11 10:20:00</td>\n",
       "      <td>1.0</td>\n",
       "      <td>Repaired: Inspected and Repaired</td>\n",
       "      <td>2013</td>\n",
       "    </tr>\n",
       "    <tr>\n",
       "      <th>4</th>\n",
       "      <td>2019-03-29 07:05:49</td>\n",
       "      <td>Street Condition</td>\n",
       "      <td>10025.0</td>\n",
       "      <td>WEST  105 STREET</td>\n",
       "      <td>WEST  106 STREET</td>\n",
       "      <td>ADDRESS</td>\n",
       "      <td>NEW YORK</td>\n",
       "      <td>Closed</td>\n",
       "      <td>07 MANHATTAN</td>\n",
       "      <td>MANHATTAN</td>\n",
       "      <td>UNKNOWN</td>\n",
       "      <td>MANHATTAN</td>\n",
       "      <td>40.798200</td>\n",
       "      <td>-73.961809</td>\n",
       "      <td>2019-03-30 20:00:00</td>\n",
       "      <td>1.0</td>\n",
       "      <td>Repaired: Inspected and Repaired</td>\n",
       "      <td>2019</td>\n",
       "    </tr>\n",
       "  </tbody>\n",
       "</table>\n",
       "</div>"
      ],
      "text/plain": [
       "         created_date    complaint_type  incident_zip    cross_street_1  \\\n",
       "0 2016-11-01 15:01:46  Street Condition           NaN          AVENUE M   \n",
       "1 2019-04-01 22:22:27  Street Condition       10306.0    JACQUES AVENUE   \n",
       "2 2013-01-09 11:20:10  Street Condition           NaN   DELANCEY STREET   \n",
       "3 2013-01-10 14:45:07  Street Condition       11101.0         40 AVENUE   \n",
       "4 2019-03-29 07:05:49  Street Condition       10025.0  WEST  105 STREET   \n",
       "\n",
       "        cross_street_2 address_type              city  status  \\\n",
       "0             AVENUE N    BLOCKFACE               NaN  Closed   \n",
       "1        NEW DORP LANE      ADDRESS     STATEN ISLAND  Closed   \n",
       "2  WILLIAMSBURG BRIDGE    BLOCKFACE          NEW YORK  Closed   \n",
       "3            41 AVENUE    BLOCKFACE  Long Island City  Closed   \n",
       "4     WEST  106 STREET      ADDRESS          NEW YORK  Closed   \n",
       "\n",
       "         community_board        borough open_data_channel_type   park_borough  \\\n",
       "0   Unspecified BROOKLYN       BROOKLYN                UNKNOWN       BROOKLYN   \n",
       "1       02 STATEN ISLAND  STATEN ISLAND                UNKNOWN  STATEN ISLAND   \n",
       "2  Unspecified MANHATTAN      MANHATTAN                UNKNOWN      MANHATTAN   \n",
       "3     Unspecified QUEENS         QUEENS                UNKNOWN         QUEENS   \n",
       "4           07 MANHATTAN      MANHATTAN                UNKNOWN      MANHATTAN   \n",
       "\n",
       "    latitude  longitude       resolved_date  days_to_close  \\\n",
       "0        NaN        NaN 2016-11-02 09:45:00            1.0   \n",
       "1  40.572961 -74.113157 2019-04-02 10:51:00            1.0   \n",
       "2        NaN        NaN 2013-01-10 14:04:00            1.0   \n",
       "3        NaN        NaN 2013-01-11 10:20:00            1.0   \n",
       "4  40.798200 -73.961809 2019-03-30 20:00:00            1.0   \n",
       "\n",
       "                shorter_description  year  \n",
       "0  Repaired: Inspected and Repaired  2016  \n",
       "1        Not Repaired: Did Not Find  2019  \n",
       "2  Repaired: Inspected and Repaired  2013  \n",
       "3  Repaired: Inspected and Repaired  2013  \n",
       "4  Repaired: Inspected and Repaired  2019  "
      ]
     },
     "execution_count": 1,
     "metadata": {},
     "output_type": "execute_result"
    }
   ],
   "source": [
    "import pandas as pd\n",
    "potholes = pd.read_csv('../data/updated_potholes_data.csv')\n",
    "for col in ['created_date', 'resolved_date']:\n",
    "    potholes[col] = pd.to_datetime(potholes[col])\n",
    "potholes.drop(potholes[potholes['borough'] == \"Unspecified\"].index, inplace = True)\n",
    "potholes.head()"
   ]
  },
  {
   "cell_type": "code",
   "execution_count": null,
   "metadata": {},
   "outputs": [],
   "source": []
  },
  {
   "cell_type": "markdown",
   "metadata": {},
   "source": [
    "As a reminder, let's take a peek at the exploratory visualization that made us recognize that Staten Island stood out as having longer response times:"
   ]
  },
  {
   "cell_type": "code",
   "execution_count": 2,
   "metadata": {},
   "outputs": [
    {
     "data": {
      "text/plain": [
       "<matplotlib.axes._subplots.AxesSubplot at 0x11ad78c50>"
      ]
     },
     "execution_count": 2,
     "metadata": {},
     "output_type": "execute_result"
    },
    {
     "data": {
      "image/png": "[encoded data removed]",
      "text/plain": [
       "<Figure size 1440x720 with 1 Axes>"
      ]
     },
     "metadata": {
      "needs_background": "light"
     },
     "output_type": "display_data"
    }
   ],
   "source": [
    "import seaborn as sns\n",
    "import matplotlib.pyplot as plt\n",
    "%matplotlib inline\n",
    "\n",
    "plt.figure(figsize=(20, 10))\n",
    "plt.ylim(0, 30)\n",
    "medianprops = dict(linewidth=3, color='black')\n",
    "sns.boxplot(x=\"year\", hue=\"borough\", y=\"days_to_close\", data=potholes, **{'medianprops':medianprops})"
   ]
  },
  {
   "cell_type": "markdown",
   "metadata": {},
   "source": [
    "## Statistical Analysis\n",
    "\n",
    "First, let's ask some statistical questions: \n",
    "\n",
    "First, looking at all the data without regard for when the complaint was initiated:\n",
    "\n",
    "* **Question 1:** Overall, regardless of year, does a disparity exist between boroughs with regard to pothole complaint resolutions?\n",
    "* **Question 2:** Overall, regardless of year, has Staten Island experienced longer wait times for complaint resolutions than the other boroughs?\n",
    "\n",
    "We'll want to measure not only p values, but also effect sizes, where applicable.  So let's add a small function to figure out Cohen's d:"
   ]
  },
  {
   "cell_type": "code",
   "execution_count": 3,
   "metadata": {},
   "outputs": [],
   "source": [
    "from numpy import var, mean\n",
    "from math import sqrt\n",
    "def cohens_d (first, second):\n",
    "  s1, s2 = var(first, ddof=1), var(second, ddof=1)\n",
    "  # calculate pooled standard deviation\n",
    "  std = sqrt(((len(first) - 1) * s1 + (len(second) - 1) * s2) / (len(first) + len(second) - 2))\n",
    "  return (mean(first)-  mean(second)) / std"
   ]
  },
  {
   "cell_type": "markdown",
   "metadata": {},
   "source": [
    "### Question 1\n",
    "\n",
    "Let's consider our first statistical question:\n",
    "\n",
    "> Overall, regardless of year, does a disparity exist between boroughs with regard to pothole complaint resolutions?\n",
    "\n",
    "This calls for an ANOVA.  Is there a real difference between boroughs?  Keep in mind this will only tell us if there is a disparity, not which two or more boroughs are indicated as being disparate.  We'll create a copy of `potholes` that only includes the borough identifier and the number of days to close.  We'll remove any rows that lack data.\n",
    "\n",
    "Then we'll perform an ANOVA, or analysis of variance."
   ]
  },
  {
   "cell_type": "code",
   "execution_count": 4,
   "metadata": {},
   "outputs": [
    {
     "data": {
      "text/plain": [
       "F_onewayResult(statistic=array([1772.04548406]), pvalue=array([0.]))"
      ]
     },
     "execution_count": 4,
     "metadata": {},
     "output_type": "execute_result"
    }
   ],
   "source": [
    "from scipy import stats\n",
    "potholes_simple = potholes[['days_to_close', 'borough']].dropna()\n",
    "\n",
    "\n",
    "stats.f_oneway(potholes_simple[['days_to_close']][potholes_simple['borough'] == \"BRONX\"],\n",
    "              potholes_simple[['days_to_close']][potholes_simple['borough'] == \"BROOKLYN\"],\n",
    "              potholes_simple[['days_to_close']][potholes_simple['borough'] == \"MANHATTAN\"],\n",
    "              potholes_simple[['days_to_close']][potholes_simple['borough'] == \"QUEENS\"],\n",
    "              potholes_simple[['days_to_close']][potholes_simple['borough'] == \"STATEN ISLAND\"])"
   ]
  },
  {
   "cell_type": "markdown",
   "metadata": {},
   "source": [
    "We get a very high F statistic and very low p value, which indicates that these five groups are not equal when it comes to response time.  The difference among the groups could only with extreme doubt (approaching nearly impossible) be attributed to chance.  There is a difference, some sort of inequality.  Pothole complaints have different response times in the different boroughs.  The difference we saw in our various data visualizations have been substantiated statistically."
   ]
  },
  {
   "cell_type": "markdown",
   "metadata": {},
   "source": [
    "### Question 2\n",
    "\n",
    "To determine whether Staten Island has a statistically significant difference in response time compared to the other boroughs, we can do a two-sample independent T test.  While the distribution of response time (`days_to_close`) is not normal (in every case we have some long outliers), we have enough data that the two-sample independent T test should be robust to non-normality."
   ]
  },
  {
   "cell_type": "code",
   "execution_count": 5,
   "metadata": {},
   "outputs": [
    {
     "data": {
      "text/plain": [
       "Ttest_indResult(statistic=array([59.48866997]), pvalue=array([0.]))"
      ]
     },
     "execution_count": 5,
     "metadata": {},
     "output_type": "execute_result"
    }
   ],
   "source": [
    "potholes_simple['Staten Island'] = potholes_simple['borough'] == \"STATEN ISLAND\"\n",
    "stats.ttest_ind(potholes_simple[['days_to_close']][potholes_simple['Staten Island']], \n",
    "                potholes_simple[['days_to_close']][~potholes_simple['Staten Island']])"
   ]
  },
  {
   "cell_type": "markdown",
   "metadata": {},
   "source": [
    "What about effect size?"
   ]
  },
  {
   "cell_type": "code",
   "execution_count": 6,
   "metadata": {},
   "outputs": [
    {
     "data": {
      "text/plain": [
       "days_to_close    0.225678\n",
       "dtype: float64"
      ]
     },
     "execution_count": 6,
     "metadata": {},
     "output_type": "execute_result"
    }
   ],
   "source": [
    "cohens_d(potholes_simple[['days_to_close']][potholes_simple['Staten Island']], \n",
    "                potholes_simple[['days_to_close']][~potholes_simple['Staten Island']])"
   ]
  },
  {
   "cell_type": "markdown",
   "metadata": {},
   "source": [
    "The effect size is small to medium, while the p value is extremely small (rounding to 0).  The small p value tells us that there is a difference in observed Staten Island response times (it takes longer to resolve a Staten Island pothole complaint), and that difference seems to not be explained away by random chance.\n",
    "\n",
    "The small Cohen's d (effect size) tells us that the difference itself between Staten Island and other boroughs is small, when compared to the overall variation in response time generally.  \n",
    "\n",
    "What **is** the difference?  Let's compare means and medians:"
   ]
  },
  {
   "cell_type": "code",
   "execution_count": 7,
   "metadata": {},
   "outputs": [
    {
     "name": "stdout",
     "output_type": "stream",
     "text": [
      "Staten Island mean response time (days):  days_to_close    6.013254\n",
      "dtype: float64\n",
      "Other boroughs mean response time (days):  days_to_close    4.169855\n",
      "dtype: float64\n"
     ]
    }
   ],
   "source": [
    "print(\"Staten Island mean response time (days): \", \n",
    "      potholes_simple[['days_to_close']][potholes_simple['Staten Island']].mean())\n",
    "print(\"Other boroughs mean response time (days): \", \n",
    "      potholes_simple[['days_to_close']][~potholes_simple['Staten Island']].mean())"
   ]
  },
  {
   "cell_type": "code",
   "execution_count": 8,
   "metadata": {},
   "outputs": [
    {
     "name": "stdout",
     "output_type": "stream",
     "text": [
      "Staten Island median response time (days):  days_to_close    2.0\n",
      "dtype: float64\n",
      "Other boroughs median response time (days):  days_to_close    1.0\n",
      "dtype: float64\n"
     ]
    }
   ],
   "source": [
    "print(\"Staten Island median response time (days): \", \n",
    "      potholes_simple[['days_to_close']][potholes_simple['Staten Island']].median())\n",
    "print(\"Other boroughs median response time (days): \", \n",
    "      potholes_simple[['days_to_close']][~potholes_simple['Staten Island']].median())"
   ]
  },
  {
   "cell_type": "markdown",
   "metadata": {},
   "source": [
    "While the effect size is small, that's because the effect is being measured against overall variance in response time, which is pretty big (after all, there are some tickets that aren't dealt with for hundreds of days).  In this case, the human effect size is pretty big: 2 days in mean, or about an additional 50% wait time, and 1 day in median, or double the wait time.  The average Staten Island pothole complaint (whether we consider the mean or the median) has a considerably longer time until resolution, and this is statistically significant at a very low p value.   Let's demonstrate that graphically.\n",
    "\n",
    "First, let's look at the entire dataset, including unrealistic outliers:"
   ]
  },
  {
   "cell_type": "code",
   "execution_count": 9,
   "metadata": {},
   "outputs": [
    {
     "data": {
      "text/plain": [
       "<matplotlib.axes._subplots.AxesSubplot at 0x11a89cfd0>"
      ]
     },
     "execution_count": 9,
     "metadata": {},
     "output_type": "execute_result"
    },
    {
     "data": {
      "image/png": "[encoded data removed]",
      "text/plain": [
       "<Figure size 432x288 with 1 Axes>"
      ]
     },
     "metadata": {
      "needs_background": "light"
     },
     "output_type": "display_data"
    }
   ],
   "source": [
    "sns.boxplot(x=\"Staten Island\", y=\"days_to_close\", data = potholes_simple)"
   ]
  },
  {
   "cell_type": "markdown",
   "metadata": {},
   "source": [
    "As we can see, the difference between these two distributions is so small as to be impossible to show.  Thus, the effect size is tiny.  But if we zoom in to where the actual bulk of pothole resolutions are taking place (within 2 weeks), we see something much different:"
   ]
  },
  {
   "cell_type": "code",
   "execution_count": 10,
   "metadata": {},
   "outputs": [
    {
     "data": {
      "text/plain": [
       "(0, 20)"
      ]
     },
     "execution_count": 10,
     "metadata": {},
     "output_type": "execute_result"
    },
    {
     "data": {
      "image/png": "[encoded data removed]",
      "text/plain": [
       "<Figure size 432x288 with 1 Axes>"
      ]
     },
     "metadata": {
      "needs_background": "light"
     },
     "output_type": "display_data"
    }
   ],
   "source": [
    "sns.boxplot(x=\"Staten Island\", y=\"days_to_close\", data = potholes_simple)\n",
    "plt.ylim(0, 20)"
   ]
  },
  {
   "cell_type": "markdown",
   "metadata": {},
   "source": [
    "### Question 3\n",
    "\n",
    "Let's also consider year-over-year performance.  Are disparities getting better as time goes on?"
   ]
  },
  {
   "cell_type": "markdown",
   "metadata": {},
   "source": [
    "**Question 3:** Is disparity among boroughs improving over time?\n",
    "\n",
    "For this question, we can look at the F statistic year over year, as well as the range of days to close pothole complaints."
   ]
  },
  {
   "cell_type": "code",
   "execution_count": 42,
   "metadata": {},
   "outputs": [
    {
     "data": {
      "text/html": [
       "<div>\n",
       "<style scoped>\n",
       "    .dataframe tbody tr th:only-of-type {\n",
       "        vertical-align: middle;\n",
       "    }\n",
       "\n",
       "    .dataframe tbody tr th {\n",
       "        vertical-align: top;\n",
       "    }\n",
       "\n",
       "    .dataframe thead th {\n",
       "        text-align: right;\n",
       "    }\n",
       "</style>\n",
       "<table border=\"1\" class=\"dataframe\">\n",
       "  <thead>\n",
       "    <tr style=\"text-align: right;\">\n",
       "      <th></th>\n",
       "      <th>year</th>\n",
       "      <th>p_stat</th>\n",
       "      <th>f_stat</th>\n",
       "      <th>overall_sd</th>\n",
       "      <th>overall_mean</th>\n",
       "      <th>mean_range</th>\n",
       "      <th>overall_median</th>\n",
       "      <th>median_range</th>\n",
       "      <th>means_disparity</th>\n",
       "      <th>medians_disparity</th>\n",
       "    </tr>\n",
       "  </thead>\n",
       "  <tbody>\n",
       "    <tr>\n",
       "      <th>0</th>\n",
       "      <td>2010</td>\n",
       "      <td>0.000000e+00</td>\n",
       "      <td>598.614509</td>\n",
       "      <td>8.454806</td>\n",
       "      <td>6.005294</td>\n",
       "      <td>4.776284</td>\n",
       "      <td>2.0</td>\n",
       "      <td>4.0</td>\n",
       "      <td>0.795346</td>\n",
       "      <td>2.0</td>\n",
       "    </tr>\n",
       "    <tr>\n",
       "      <th>1</th>\n",
       "      <td>2011</td>\n",
       "      <td>7.325690e-243</td>\n",
       "      <td>284.703684</td>\n",
       "      <td>13.493647</td>\n",
       "      <td>10.438648</td>\n",
       "      <td>5.617601</td>\n",
       "      <td>5.0</td>\n",
       "      <td>6.0</td>\n",
       "      <td>0.538154</td>\n",
       "      <td>1.2</td>\n",
       "    </tr>\n",
       "    <tr>\n",
       "      <th>2</th>\n",
       "      <td>2012</td>\n",
       "      <td>1.936590e-98</td>\n",
       "      <td>115.930082</td>\n",
       "      <td>5.929163</td>\n",
       "      <td>1.616676</td>\n",
       "      <td>1.830922</td>\n",
       "      <td>1.0</td>\n",
       "      <td>1.0</td>\n",
       "      <td>1.132523</td>\n",
       "      <td>1.0</td>\n",
       "    </tr>\n",
       "    <tr>\n",
       "      <th>3</th>\n",
       "      <td>2013</td>\n",
       "      <td>0.000000e+00</td>\n",
       "      <td>398.128441</td>\n",
       "      <td>3.298482</td>\n",
       "      <td>1.672042</td>\n",
       "      <td>1.982679</td>\n",
       "      <td>1.0</td>\n",
       "      <td>1.0</td>\n",
       "      <td>1.185783</td>\n",
       "      <td>1.0</td>\n",
       "    </tr>\n",
       "    <tr>\n",
       "      <th>4</th>\n",
       "      <td>2014</td>\n",
       "      <td>1.988019e-255</td>\n",
       "      <td>298.715674</td>\n",
       "      <td>10.045772</td>\n",
       "      <td>5.379231</td>\n",
       "      <td>3.351781</td>\n",
       "      <td>1.0</td>\n",
       "      <td>1.0</td>\n",
       "      <td>0.623097</td>\n",
       "      <td>1.0</td>\n",
       "    </tr>\n",
       "    <tr>\n",
       "      <th>5</th>\n",
       "      <td>2015</td>\n",
       "      <td>0.000000e+00</td>\n",
       "      <td>902.754211</td>\n",
       "      <td>7.135123</td>\n",
       "      <td>4.723241</td>\n",
       "      <td>3.905609</td>\n",
       "      <td>1.0</td>\n",
       "      <td>2.0</td>\n",
       "      <td>0.826892</td>\n",
       "      <td>2.0</td>\n",
       "    </tr>\n",
       "    <tr>\n",
       "      <th>6</th>\n",
       "      <td>2016</td>\n",
       "      <td>0.000000e+00</td>\n",
       "      <td>435.743596</td>\n",
       "      <td>5.010870</td>\n",
       "      <td>2.454789</td>\n",
       "      <td>2.010138</td>\n",
       "      <td>1.0</td>\n",
       "      <td>0.0</td>\n",
       "      <td>0.818864</td>\n",
       "      <td>0.0</td>\n",
       "    </tr>\n",
       "    <tr>\n",
       "      <th>7</th>\n",
       "      <td>2017</td>\n",
       "      <td>0.000000e+00</td>\n",
       "      <td>516.907483</td>\n",
       "      <td>4.746244</td>\n",
       "      <td>2.713484</td>\n",
       "      <td>2.313902</td>\n",
       "      <td>1.0</td>\n",
       "      <td>0.0</td>\n",
       "      <td>0.852742</td>\n",
       "      <td>0.0</td>\n",
       "    </tr>\n",
       "    <tr>\n",
       "      <th>8</th>\n",
       "      <td>2018</td>\n",
       "      <td>0.000000e+00</td>\n",
       "      <td>469.146682</td>\n",
       "      <td>6.803077</td>\n",
       "      <td>3.892071</td>\n",
       "      <td>3.196957</td>\n",
       "      <td>1.0</td>\n",
       "      <td>2.0</td>\n",
       "      <td>0.821402</td>\n",
       "      <td>2.0</td>\n",
       "    </tr>\n",
       "    <tr>\n",
       "      <th>9</th>\n",
       "      <td>2019</td>\n",
       "      <td>2.829997e-44</td>\n",
       "      <td>52.618366</td>\n",
       "      <td>4.732564</td>\n",
       "      <td>2.809060</td>\n",
       "      <td>1.301139</td>\n",
       "      <td>1.0</td>\n",
       "      <td>1.0</td>\n",
       "      <td>0.463194</td>\n",
       "      <td>1.0</td>\n",
       "    </tr>\n",
       "  </tbody>\n",
       "</table>\n",
       "</div>"
      ],
      "text/plain": [
       "   year         p_stat      f_stat  overall_sd  overall_mean  mean_range  \\\n",
       "0  2010   0.000000e+00  598.614509    8.454806      6.005294    4.776284   \n",
       "1  2011  7.325690e-243  284.703684   13.493647     10.438648    5.617601   \n",
       "2  2012   1.936590e-98  115.930082    5.929163      1.616676    1.830922   \n",
       "3  2013   0.000000e+00  398.128441    3.298482      1.672042    1.982679   \n",
       "4  2014  1.988019e-255  298.715674   10.045772      5.379231    3.351781   \n",
       "5  2015   0.000000e+00  902.754211    7.135123      4.723241    3.905609   \n",
       "6  2016   0.000000e+00  435.743596    5.010870      2.454789    2.010138   \n",
       "7  2017   0.000000e+00  516.907483    4.746244      2.713484    2.313902   \n",
       "8  2018   0.000000e+00  469.146682    6.803077      3.892071    3.196957   \n",
       "9  2019   2.829997e-44   52.618366    4.732564      2.809060    1.301139   \n",
       "\n",
       "   overall_median  median_range  means_disparity  medians_disparity  \n",
       "0             2.0           4.0         0.795346                2.0  \n",
       "1             5.0           6.0         0.538154                1.2  \n",
       "2             1.0           1.0         1.132523                1.0  \n",
       "3             1.0           1.0         1.185783                1.0  \n",
       "4             1.0           1.0         0.623097                1.0  \n",
       "5             1.0           2.0         0.826892                2.0  \n",
       "6             1.0           0.0         0.818864                0.0  \n",
       "7             1.0           0.0         0.852742                0.0  \n",
       "8             1.0           2.0         0.821402                2.0  \n",
       "9             1.0           1.0         0.463194                1.0  "
      ]
     },
     "execution_count": 42,
     "metadata": {},
     "output_type": "execute_result"
    }
   ],
   "source": [
    "mean_ranges = []\n",
    "overall_means = []\n",
    "median_ranges = []\n",
    "overall_medians = []\n",
    "overall_sd = []\n",
    "f_stats = []\n",
    "p_stats = []\n",
    "\n",
    "for year in range(2010,2020):\n",
    "    potholes_year = potholes[['days_to_close', 'borough']][potholes['year'] == year].dropna()\n",
    "    f, p = stats.f_oneway(potholes_year[['days_to_close']][potholes_year['borough'] == \"BRONX\"],\n",
    "              potholes_year[['days_to_close']][potholes_year['borough'] == \"BROOKLYN\"],\n",
    "              potholes_year[['days_to_close']][potholes_year['borough'] == \"MANHATTAN\"],\n",
    "              potholes_year[['days_to_close']][potholes_year['borough'] == \"QUEENS\"],\n",
    "              potholes_year[['days_to_close']][potholes_year['borough'] == \"STATEN ISLAND\"])\n",
    "    p_stats += [p[0]] \n",
    "    f_stats += [f[0]]\n",
    "    potholes_year_mean = potholes_year.groupby('borough')['days_to_close'].mean()\n",
    "    potholes_year_median = potholes_year.groupby('borough')['days_to_close'].median()\n",
    "    mean_range = max(potholes_year_mean) - min(potholes_year_mean)\n",
    "    median_range = max(potholes_year_median) - min(potholes_year_median)\n",
    "    mean_ranges += [mean_range]\n",
    "    median_ranges += [median_range]\n",
    "    overall_means += [potholes_year['days_to_close'].mean()]\n",
    "    overall_medians += [potholes_year['days_to_close'].median()]\n",
    "    overall_sd += [potholes_year['days_to_close'].std()]\n",
    "\n",
    "disparity_data = pd.DataFrame({'year' : range(2010,2020), \n",
    "                               'p_stat' : p_stats,\n",
    "                               'f_stat' : f_stats,\n",
    "                               'overall_sd' : sd_stats,\n",
    "                               'overall_mean' : overall_means,\n",
    "                               'mean_range' : mean_ranges,\n",
    "                               'overall_median' : overall_medians,\n",
    "                               'median_range' : median_ranges})\n",
    "disparity_data['means_disparity'] = disparity_data['mean_range']/disparity_data['overall_mean']\n",
    "disparity_data['medians_disparity'] = disparity_data['median_range']/disparity_data['overall_median']\n",
    "\n",
    "disparity_data\n",
    "    "
   ]
  },
  {
   "cell_type": "markdown",
   "metadata": {},
   "source": [
    "It certainly seems that we are, writ large, tending toward less disparity between boroughs, comparing earlier years to later years.  Overall standard deviation (across boroughs) is trending lower, as is the range of mean response times per borough.  Still, this trend is not monotonic (consistently going down each year), but fluctuates."
   ]
  },
  {
   "cell_type": "code",
   "execution_count": null,
   "metadata": {},
   "outputs": [],
   "source": []
  }
 ],
 "metadata": {
  "kernelspec": {
   "display_name": "Python 3",
   "language": "python",
   "name": "python3"
  },
  "language_info": {
   "codemirror_mode": {
    "name": "ipython",
    "version": 3
   },
   "file_extension": ".py",
   "mimetype": "text/x-python",
   "name": "python",
   "nbconvert_exporter": "python",
   "pygments_lexer": "ipython3",
   "version": "3.7.1"
  }
 },
 "nbformat": 4,
 "nbformat_minor": 2
}
