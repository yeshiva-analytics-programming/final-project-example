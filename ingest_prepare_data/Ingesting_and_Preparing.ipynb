{
 "cells": [
  {
   "cell_type": "markdown",
   "metadata": {
    "colab_type": "text",
    "id": "mRsQLnOTfaq2"
   },
   "source": [
    "# Obtaining NYC 311 Data\n",
    "\n",
    "New York's Open Data Portal (https://opendata.cityofnewyork.us/) uses the Socrata Open Data API to give API access to data hosted on the site.\n",
    "\n",
    "This is significant because the datasets on NYC Open Data are often many millions of rows -- prohibitively large for some.  It's helpful to be able to download only the first, say, 50 thousand rows to get a taste of what the entire dataset is.  We can also specify only certain data, using column names and conditions.\n",
    "\n",
    "## 311 Overview\n",
    "\n",
    "In the city of New York, citizens with non-emergency complaints (e.g. trash non-collection, rodent infestations) can call 311 to make a Service Request. These are recorded and shared on New York's open data site at https://nycopendata.socrata.com/Social-Services/311-Service-Requests-from-2010-to-Present/erm2-nwe9.\n",
    "\n",
    "## High-Level Data Description\n",
    "\n",
    "The data dates from 2010 to the current day, with data being updated on a daily basis. At the time of this writing, there are over 20 million rows, each row representing a single service request, and over 40 columns which represent aspects of each service request, such as the street address being referenced, the type of complaint, the agency responsible, the date of the service request, etc.\n",
    "\n",
    "## Bring in Data via pandas\n",
    "\n",
    "We're only going to bring in only the rows that have 'Pothole' in the descriptor field.  We'll set an upper limit of 1 million rows."
   ]
  },
  {
   "cell_type": "code",
   "execution_count": 1,
   "metadata": {
    "colab": {
     "base_uri": "https://localhost:8080/",
     "height": 51
    },
    "colab_type": "code",
    "id": "PWo7BN2ffYs_",
    "outputId": "b95035fe-24dc-4d35-c1be-61ee46eeecc2"
   },
   "outputs": [
    {
     "name": "stderr",
     "output_type": "stream",
     "text": [
      "/anaconda3/lib/python3.7/site-packages/IPython/core/interactiveshell.py:3020: DtypeWarning: Columns (17) have mixed types. Specify dtype option on import or set low_memory=False.\n",
      "  interactivity=interactivity, compiler=compiler, result=result)\n"
     ]
    }
   ],
   "source": [
    "import pandas as pd\n",
    "potholes = pd.read_csv(\"https://data.cityofnewyork.us/resource/fhrw-4uyv.csv?descriptor=Pothole&$limit=1000000\")"
   ]
  },
  {
   "cell_type": "markdown",
   "metadata": {
    "colab_type": "text",
    "id": "rVKtt60BmnUU"
   },
   "source": [
    "How large is this data?"
   ]
  },
  {
   "cell_type": "code",
   "execution_count": 2,
   "metadata": {
    "colab": {
     "base_uri": "https://localhost:8080/",
     "height": 34
    },
    "colab_type": "code",
    "id": "B-PKeCY5mp8g",
    "outputId": "d346c49e-c9d1-44ea-90ce-4e2a764ff8a8"
   },
   "outputs": [
    {
     "data": {
      "text/plain": [
       "(569142, 45)"
      ]
     },
     "execution_count": 2,
     "metadata": {},
     "output_type": "execute_result"
    }
   ],
   "source": [
    "potholes.shape"
   ]
  },
  {
   "cell_type": "markdown",
   "metadata": {
    "colab_type": "text",
    "id": "3M-Wgco7ku22"
   },
   "source": [
    "Let's take a peek at the data in several ways.  We'll start by looking at the first few rows.  We'll scroll to the right to see all the columns."
   ]
  },
  {
   "cell_type": "code",
   "execution_count": 3,
   "metadata": {
    "colab": {
     "base_uri": "https://localhost:8080/",
     "height": 394
    },
    "colab_type": "code",
    "id": "cxzTDL00k0YC",
    "outputId": "891e53ec-2506-4b2e-fc6e-700d21c88c72"
   },
   "outputs": [
    {
     "data": {
      "text/html": [
       "<div>\n",
       "<style scoped>\n",
       "    .dataframe tbody tr th:only-of-type {\n",
       "        vertical-align: middle;\n",
       "    }\n",
       "\n",
       "    .dataframe tbody tr th {\n",
       "        vertical-align: top;\n",
       "    }\n",
       "\n",
       "    .dataframe thead th {\n",
       "        text-align: right;\n",
       "    }\n",
       "</style>\n",
       "<table border=\"1\" class=\"dataframe\">\n",
       "  <thead>\n",
       "    <tr style=\"text-align: right;\">\n",
       "      <th></th>\n",
       "      <th>unique_key</th>\n",
       "      <th>created_date</th>\n",
       "      <th>closed_date</th>\n",
       "      <th>agency</th>\n",
       "      <th>agency_name</th>\n",
       "      <th>complaint_type</th>\n",
       "      <th>descriptor</th>\n",
       "      <th>location_type</th>\n",
       "      <th>incident_zip</th>\n",
       "      <th>incident_address</th>\n",
       "      <th>...</th>\n",
       "      <th>bridge_highway_direction</th>\n",
       "      <th>road_ramp</th>\n",
       "      <th>bridge_highway_segment</th>\n",
       "      <th>latitude</th>\n",
       "      <th>longitude</th>\n",
       "      <th>location_city</th>\n",
       "      <th>location</th>\n",
       "      <th>location_address</th>\n",
       "      <th>location_zip</th>\n",
       "      <th>location_state</th>\n",
       "    </tr>\n",
       "  </thead>\n",
       "  <tbody>\n",
       "    <tr>\n",
       "      <th>0</th>\n",
       "      <td>42035216</td>\n",
       "      <td>2019-03-23T15:37:36.000</td>\n",
       "      <td>2019-03-27T07:34:00.000</td>\n",
       "      <td>DOT</td>\n",
       "      <td>Department of Transportation</td>\n",
       "      <td>Street Condition</td>\n",
       "      <td>Pothole</td>\n",
       "      <td>NaN</td>\n",
       "      <td>11355.0</td>\n",
       "      <td>BOOTH MEMORIAL AVENUE</td>\n",
       "      <td>...</td>\n",
       "      <td>NaN</td>\n",
       "      <td>NaN</td>\n",
       "      <td>NaN</td>\n",
       "      <td>40.744876</td>\n",
       "      <td>-73.820516</td>\n",
       "      <td>NaN</td>\n",
       "      <td>POINT (-73.820515773594 40.744876037242)</td>\n",
       "      <td>NaN</td>\n",
       "      <td>NaN</td>\n",
       "      <td>NaN</td>\n",
       "    </tr>\n",
       "    <tr>\n",
       "      <th>1</th>\n",
       "      <td>42035218</td>\n",
       "      <td>2019-03-23T17:09:03.000</td>\n",
       "      <td>2019-03-27T10:13:00.000</td>\n",
       "      <td>DOT</td>\n",
       "      <td>Department of Transportation</td>\n",
       "      <td>Street Condition</td>\n",
       "      <td>Pothole</td>\n",
       "      <td>NaN</td>\n",
       "      <td>10314.0</td>\n",
       "      <td>NaN</td>\n",
       "      <td>...</td>\n",
       "      <td>NaN</td>\n",
       "      <td>NaN</td>\n",
       "      <td>NaN</td>\n",
       "      <td>40.613078</td>\n",
       "      <td>-74.122557</td>\n",
       "      <td>NaN</td>\n",
       "      <td>POINT (-74.122556992381 40.613077936948)</td>\n",
       "      <td>NaN</td>\n",
       "      <td>NaN</td>\n",
       "      <td>NaN</td>\n",
       "    </tr>\n",
       "    <tr>\n",
       "      <th>2</th>\n",
       "      <td>42036611</td>\n",
       "      <td>2019-03-23T19:04:12.000</td>\n",
       "      <td>NaN</td>\n",
       "      <td>DOT</td>\n",
       "      <td>Department of Transportation</td>\n",
       "      <td>Street Condition</td>\n",
       "      <td>Pothole</td>\n",
       "      <td>NaN</td>\n",
       "      <td>11377.0</td>\n",
       "      <td>NaN</td>\n",
       "      <td>...</td>\n",
       "      <td>NaN</td>\n",
       "      <td>NaN</td>\n",
       "      <td>NaN</td>\n",
       "      <td>40.740335</td>\n",
       "      <td>-73.898720</td>\n",
       "      <td>NaN</td>\n",
       "      <td>POINT (-73.898720018464 40.740335470005)</td>\n",
       "      <td>NaN</td>\n",
       "      <td>NaN</td>\n",
       "      <td>NaN</td>\n",
       "    </tr>\n",
       "    <tr>\n",
       "      <th>3</th>\n",
       "      <td>42036612</td>\n",
       "      <td>2019-03-23T09:25:59.000</td>\n",
       "      <td>2019-03-27T13:20:00.000</td>\n",
       "      <td>DOT</td>\n",
       "      <td>Department of Transportation</td>\n",
       "      <td>Street Condition</td>\n",
       "      <td>Pothole</td>\n",
       "      <td>NaN</td>\n",
       "      <td>10314.0</td>\n",
       "      <td>NaN</td>\n",
       "      <td>...</td>\n",
       "      <td>NaN</td>\n",
       "      <td>NaN</td>\n",
       "      <td>NaN</td>\n",
       "      <td>40.614868</td>\n",
       "      <td>-74.139287</td>\n",
       "      <td>NaN</td>\n",
       "      <td>POINT (-74.139287300499 40.614867702584)</td>\n",
       "      <td>NaN</td>\n",
       "      <td>NaN</td>\n",
       "      <td>NaN</td>\n",
       "    </tr>\n",
       "    <tr>\n",
       "      <th>4</th>\n",
       "      <td>42036613</td>\n",
       "      <td>2019-03-23T13:40:15.000</td>\n",
       "      <td>2019-03-28T09:44:00.000</td>\n",
       "      <td>DOT</td>\n",
       "      <td>Department of Transportation</td>\n",
       "      <td>Street Condition</td>\n",
       "      <td>Pothole</td>\n",
       "      <td>NaN</td>\n",
       "      <td>10475.0</td>\n",
       "      <td>3285 ROMBOUTS AVENUE</td>\n",
       "      <td>...</td>\n",
       "      <td>NaN</td>\n",
       "      <td>NaN</td>\n",
       "      <td>NaN</td>\n",
       "      <td>40.880089</td>\n",
       "      <td>-73.827604</td>\n",
       "      <td>NaN</td>\n",
       "      <td>POINT (-73.827603802742 40.880089328815)</td>\n",
       "      <td>NaN</td>\n",
       "      <td>NaN</td>\n",
       "      <td>NaN</td>\n",
       "    </tr>\n",
       "  </tbody>\n",
       "</table>\n",
       "<p>5 rows × 45 columns</p>\n",
       "</div>"
      ],
      "text/plain": [
       "   unique_key             created_date              closed_date agency  \\\n",
       "0    42035216  2019-03-23T15:37:36.000  2019-03-27T07:34:00.000    DOT   \n",
       "1    42035218  2019-03-23T17:09:03.000  2019-03-27T10:13:00.000    DOT   \n",
       "2    42036611  2019-03-23T19:04:12.000                      NaN    DOT   \n",
       "3    42036612  2019-03-23T09:25:59.000  2019-03-27T13:20:00.000    DOT   \n",
       "4    42036613  2019-03-23T13:40:15.000  2019-03-28T09:44:00.000    DOT   \n",
       "\n",
       "                    agency_name    complaint_type descriptor location_type  \\\n",
       "0  Department of Transportation  Street Condition    Pothole           NaN   \n",
       "1  Department of Transportation  Street Condition    Pothole           NaN   \n",
       "2  Department of Transportation  Street Condition    Pothole           NaN   \n",
       "3  Department of Transportation  Street Condition    Pothole           NaN   \n",
       "4  Department of Transportation  Street Condition    Pothole           NaN   \n",
       "\n",
       "   incident_zip       incident_address      ...        \\\n",
       "0       11355.0  BOOTH MEMORIAL AVENUE      ...         \n",
       "1       10314.0                    NaN      ...         \n",
       "2       11377.0                    NaN      ...         \n",
       "3       10314.0                    NaN      ...         \n",
       "4       10475.0   3285 ROMBOUTS AVENUE      ...         \n",
       "\n",
       "  bridge_highway_direction road_ramp bridge_highway_segment   latitude  \\\n",
       "0                      NaN       NaN                    NaN  40.744876   \n",
       "1                      NaN       NaN                    NaN  40.613078   \n",
       "2                      NaN       NaN                    NaN  40.740335   \n",
       "3                      NaN       NaN                    NaN  40.614868   \n",
       "4                      NaN       NaN                    NaN  40.880089   \n",
       "\n",
       "   longitude location_city                                  location  \\\n",
       "0 -73.820516           NaN  POINT (-73.820515773594 40.744876037242)   \n",
       "1 -74.122557           NaN  POINT (-74.122556992381 40.613077936948)   \n",
       "2 -73.898720           NaN  POINT (-73.898720018464 40.740335470005)   \n",
       "3 -74.139287           NaN  POINT (-74.139287300499 40.614867702584)   \n",
       "4 -73.827604           NaN  POINT (-73.827603802742 40.880089328815)   \n",
       "\n",
       "  location_address  location_zip location_state  \n",
       "0              NaN           NaN            NaN  \n",
       "1              NaN           NaN            NaN  \n",
       "2              NaN           NaN            NaN  \n",
       "3              NaN           NaN            NaN  \n",
       "4              NaN           NaN            NaN  \n",
       "\n",
       "[5 rows x 45 columns]"
      ]
     },
     "execution_count": 3,
     "metadata": {},
     "output_type": "execute_result"
    }
   ],
   "source": [
    "potholes.head()"
   ]
  },
  {
   "cell_type": "markdown",
   "metadata": {
    "colab_type": "text",
    "id": "Eu3dUVcwmZWF"
   },
   "source": [
    "Let's look at the overall number of present vs absent values in each column, as well as the column type:"
   ]
  },
  {
   "cell_type": "code",
   "execution_count": 4,
   "metadata": {
    "colab": {
     "base_uri": "https://localhost:8080/",
     "height": 867
    },
    "colab_type": "code",
    "id": "w0L-iEkNmtel",
    "outputId": "61f84f14-adfb-4563-b063-45e2b14fab55"
   },
   "outputs": [
    {
     "name": "stdout",
     "output_type": "stream",
     "text": [
      "<class 'pandas.core.frame.DataFrame'>\n",
      "RangeIndex: 569142 entries, 0 to 569141\n",
      "Data columns (total 45 columns):\n",
      "unique_key                        569142 non-null int64\n",
      "created_date                      569142 non-null object\n",
      "closed_date                       566287 non-null object\n",
      "agency                            569142 non-null object\n",
      "agency_name                       569142 non-null object\n",
      "complaint_type                    569142 non-null object\n",
      "descriptor                        569142 non-null object\n",
      "location_type                     1900 non-null object\n",
      "incident_zip                      525046 non-null float64\n",
      "incident_address                  356993 non-null object\n",
      "street_name                       356993 non-null object\n",
      "cross_street_1                    462612 non-null object\n",
      "cross_street_2                    462547 non-null object\n",
      "intersection_street_1             202959 non-null object\n",
      "intersection_street_2             202957 non-null object\n",
      "address_type                      551495 non-null object\n",
      "city                              528465 non-null object\n",
      "landmark                          1 non-null object\n",
      "facility_type                     0 non-null float64\n",
      "status                            569142 non-null object\n",
      "due_date                          1872 non-null object\n",
      "resolution_description            568606 non-null object\n",
      "resolution_action_updated_date    568949 non-null object\n",
      "community_board                   569142 non-null object\n",
      "bbl                               227245 non-null float64\n",
      "borough                           569142 non-null object\n",
      "x_coordinate_state_plane          521193 non-null float64\n",
      "y_coordinate_state_plane          521193 non-null float64\n",
      "open_data_channel_type            569142 non-null object\n",
      "park_facility_name                569142 non-null object\n",
      "park_borough                      569142 non-null object\n",
      "vehicle_type                      0 non-null float64\n",
      "taxi_company_borough              0 non-null float64\n",
      "taxi_pick_up_location             0 non-null float64\n",
      "bridge_highway_name               1904 non-null object\n",
      "bridge_highway_direction          1904 non-null object\n",
      "road_ramp                         1904 non-null object\n",
      "bridge_highway_segment            1904 non-null object\n",
      "latitude                          521193 non-null float64\n",
      "longitude                         521193 non-null float64\n",
      "location_city                     0 non-null float64\n",
      "location                          521193 non-null object\n",
      "location_address                  0 non-null float64\n",
      "location_zip                      0 non-null float64\n",
      "location_state                    0 non-null float64\n",
      "dtypes: float64(14), int64(1), object(30)\n",
      "memory usage: 195.4+ MB\n"
     ]
    }
   ],
   "source": [
    "potholes.info()"
   ]
  },
  {
   "cell_type": "markdown",
   "metadata": {
    "colab_type": "text",
    "id": "-76S-5qYm7S_"
   },
   "source": [
    "## Cleaning and Preparing Data\n",
    "\n",
    "We see multiple columns with few to no values, and we also see columns that have data types that aren't quite right (date stamps as string objects).  We'll take that on in this section.\n",
    "\n",
    "### Dates\n",
    "\n",
    "Let's begin by converting dates:"
   ]
  },
  {
   "cell_type": "code",
   "execution_count": 5,
   "metadata": {
    "colab": {},
    "colab_type": "code",
    "id": "32vrZNiEncHI"
   },
   "outputs": [],
   "source": [
    "for col in ['created_date', 'closed_date', 'due_date', 'resolution_action_updated_date']:\n",
    "    potholes[col] = pd.to_datetime(potholes[col])"
   ]
  },
  {
   "cell_type": "markdown",
   "metadata": {
    "colab_type": "text",
    "id": "EbG-uBhcoQ7s"
   },
   "source": [
    "And now let's peek at the dates:"
   ]
  },
  {
   "cell_type": "code",
   "execution_count": 6,
   "metadata": {
    "colab": {
     "base_uri": "https://localhost:8080/",
     "height": 235
    },
    "colab_type": "code",
    "id": "lVFhL0GgoTkT",
    "outputId": "1865ee26-c93c-45d9-f622-1fca64088307"
   },
   "outputs": [
    {
     "data": {
      "text/html": [
       "<div>\n",
       "<style scoped>\n",
       "    .dataframe tbody tr th:only-of-type {\n",
       "        vertical-align: middle;\n",
       "    }\n",
       "\n",
       "    .dataframe tbody tr th {\n",
       "        vertical-align: top;\n",
       "    }\n",
       "\n",
       "    .dataframe thead th {\n",
       "        text-align: right;\n",
       "    }\n",
       "</style>\n",
       "<table border=\"1\" class=\"dataframe\">\n",
       "  <thead>\n",
       "    <tr style=\"text-align: right;\">\n",
       "      <th></th>\n",
       "      <th>created_date</th>\n",
       "      <th>closed_date</th>\n",
       "      <th>due_date</th>\n",
       "      <th>resolution_action_updated_date</th>\n",
       "    </tr>\n",
       "  </thead>\n",
       "  <tbody>\n",
       "    <tr>\n",
       "      <th>count</th>\n",
       "      <td>569142</td>\n",
       "      <td>566287</td>\n",
       "      <td>1872</td>\n",
       "      <td>568949</td>\n",
       "    </tr>\n",
       "    <tr>\n",
       "      <th>unique</th>\n",
       "      <td>545013</td>\n",
       "      <td>407126</td>\n",
       "      <td>1575</td>\n",
       "      <td>410211</td>\n",
       "    </tr>\n",
       "    <tr>\n",
       "      <th>top</th>\n",
       "      <td>2010-03-26 07:00:00</td>\n",
       "      <td>2011-02-10 00:00:00</td>\n",
       "      <td>2014-06-25 18:44:38</td>\n",
       "      <td>2014-02-23 00:00:00</td>\n",
       "    </tr>\n",
       "    <tr>\n",
       "      <th>freq</th>\n",
       "      <td>94</td>\n",
       "      <td>70</td>\n",
       "      <td>17</td>\n",
       "      <td>48</td>\n",
       "    </tr>\n",
       "    <tr>\n",
       "      <th>first</th>\n",
       "      <td>2010-01-01 01:57:23</td>\n",
       "      <td>2010-01-01 06:08:33</td>\n",
       "      <td>2010-06-22 16:28:07</td>\n",
       "      <td>2010-01-01 06:08:33</td>\n",
       "    </tr>\n",
       "    <tr>\n",
       "      <th>last</th>\n",
       "      <td>2019-07-30 23:14:06</td>\n",
       "      <td>2019-07-30 22:41:04</td>\n",
       "      <td>2019-11-24 09:43:36</td>\n",
       "      <td>2019-07-30 23:14:06</td>\n",
       "    </tr>\n",
       "  </tbody>\n",
       "</table>\n",
       "</div>"
      ],
      "text/plain": [
       "               created_date          closed_date             due_date  \\\n",
       "count                569142               566287                 1872   \n",
       "unique               545013               407126                 1575   \n",
       "top     2010-03-26 07:00:00  2011-02-10 00:00:00  2014-06-25 18:44:38   \n",
       "freq                     94                   70                   17   \n",
       "first   2010-01-01 01:57:23  2010-01-01 06:08:33  2010-06-22 16:28:07   \n",
       "last    2019-07-30 23:14:06  2019-07-30 22:41:04  2019-11-24 09:43:36   \n",
       "\n",
       "       resolution_action_updated_date  \n",
       "count                          568949  \n",
       "unique                         410211  \n",
       "top               2014-02-23 00:00:00  \n",
       "freq                               48  \n",
       "first             2010-01-01 06:08:33  \n",
       "last              2019-07-30 23:14:06  "
      ]
     },
     "execution_count": 6,
     "metadata": {},
     "output_type": "execute_result"
    }
   ],
   "source": [
    "potholes[['created_date', 'closed_date', 'due_date', 'resolution_action_updated_date']].describe()"
   ]
  },
  {
   "cell_type": "markdown",
   "metadata": {
    "colab_type": "text",
    "id": "PKdtF5Tsog-h"
   },
   "source": [
    "Wonderful, we don't have any outlier dates.  All the dates fall within an expected range of 2010-2019.  Let's now narrow our data by eliminating columns with greater than 70% missing values."
   ]
  },
  {
   "cell_type": "code",
   "execution_count": 7,
   "metadata": {
    "colab": {
     "base_uri": "https://localhost:8080/",
     "height": 394
    },
    "colab_type": "code",
    "id": "LgwF-M8Gp8J9",
    "outputId": "dd8b2b87-e985-439a-add6-e7fef0b06b2f"
   },
   "outputs": [
    {
     "data": {
      "text/html": [
       "<div>\n",
       "<style scoped>\n",
       "    .dataframe tbody tr th:only-of-type {\n",
       "        vertical-align: middle;\n",
       "    }\n",
       "\n",
       "    .dataframe tbody tr th {\n",
       "        vertical-align: top;\n",
       "    }\n",
       "\n",
       "    .dataframe thead th {\n",
       "        text-align: right;\n",
       "    }\n",
       "</style>\n",
       "<table border=\"1\" class=\"dataframe\">\n",
       "  <thead>\n",
       "    <tr style=\"text-align: right;\">\n",
       "      <th></th>\n",
       "      <th>unique_key</th>\n",
       "      <th>created_date</th>\n",
       "      <th>closed_date</th>\n",
       "      <th>agency</th>\n",
       "      <th>agency_name</th>\n",
       "      <th>complaint_type</th>\n",
       "      <th>descriptor</th>\n",
       "      <th>incident_zip</th>\n",
       "      <th>cross_street_1</th>\n",
       "      <th>cross_street_2</th>\n",
       "      <th>...</th>\n",
       "      <th>community_board</th>\n",
       "      <th>borough</th>\n",
       "      <th>x_coordinate_state_plane</th>\n",
       "      <th>y_coordinate_state_plane</th>\n",
       "      <th>open_data_channel_type</th>\n",
       "      <th>park_facility_name</th>\n",
       "      <th>park_borough</th>\n",
       "      <th>latitude</th>\n",
       "      <th>longitude</th>\n",
       "      <th>location</th>\n",
       "    </tr>\n",
       "  </thead>\n",
       "  <tbody>\n",
       "    <tr>\n",
       "      <th>0</th>\n",
       "      <td>42035216</td>\n",
       "      <td>2019-03-23 15:37:36</td>\n",
       "      <td>2019-03-27 07:34:00</td>\n",
       "      <td>DOT</td>\n",
       "      <td>Department of Transportation</td>\n",
       "      <td>Street Condition</td>\n",
       "      <td>Pothole</td>\n",
       "      <td>11355.0</td>\n",
       "      <td>146 STREET</td>\n",
       "      <td>148 STREET</td>\n",
       "      <td>...</td>\n",
       "      <td>07 QUEENS</td>\n",
       "      <td>QUEENS</td>\n",
       "      <td>1033984.0</td>\n",
       "      <td>210706.0</td>\n",
       "      <td>UNKNOWN</td>\n",
       "      <td>Unspecified</td>\n",
       "      <td>QUEENS</td>\n",
       "      <td>40.744876</td>\n",
       "      <td>-73.820516</td>\n",
       "      <td>POINT (-73.820515773594 40.744876037242)</td>\n",
       "    </tr>\n",
       "    <tr>\n",
       "      <th>1</th>\n",
       "      <td>42035218</td>\n",
       "      <td>2019-03-23 17:09:03</td>\n",
       "      <td>2019-03-27 10:13:00</td>\n",
       "      <td>DOT</td>\n",
       "      <td>Department of Transportation</td>\n",
       "      <td>Street Condition</td>\n",
       "      <td>Pothole</td>\n",
       "      <td>10314.0</td>\n",
       "      <td>NaN</td>\n",
       "      <td>NaN</td>\n",
       "      <td>...</td>\n",
       "      <td>01 STATEN ISLAND</td>\n",
       "      <td>STATEN ISLAND</td>\n",
       "      <td>950223.0</td>\n",
       "      <td>162661.0</td>\n",
       "      <td>UNKNOWN</td>\n",
       "      <td>Unspecified</td>\n",
       "      <td>STATEN ISLAND</td>\n",
       "      <td>40.613078</td>\n",
       "      <td>-74.122557</td>\n",
       "      <td>POINT (-74.122556992381 40.613077936948)</td>\n",
       "    </tr>\n",
       "    <tr>\n",
       "      <th>2</th>\n",
       "      <td>42036611</td>\n",
       "      <td>2019-03-23 19:04:12</td>\n",
       "      <td>NaT</td>\n",
       "      <td>DOT</td>\n",
       "      <td>Department of Transportation</td>\n",
       "      <td>Street Condition</td>\n",
       "      <td>Pothole</td>\n",
       "      <td>11377.0</td>\n",
       "      <td>NaN</td>\n",
       "      <td>NaN</td>\n",
       "      <td>...</td>\n",
       "      <td>02 QUEENS</td>\n",
       "      <td>QUEENS</td>\n",
       "      <td>1012316.0</td>\n",
       "      <td>209017.0</td>\n",
       "      <td>UNKNOWN</td>\n",
       "      <td>Unspecified</td>\n",
       "      <td>QUEENS</td>\n",
       "      <td>40.740335</td>\n",
       "      <td>-73.898720</td>\n",
       "      <td>POINT (-73.898720018464 40.740335470005)</td>\n",
       "    </tr>\n",
       "    <tr>\n",
       "      <th>3</th>\n",
       "      <td>42036612</td>\n",
       "      <td>2019-03-23 09:25:59</td>\n",
       "      <td>2019-03-27 13:20:00</td>\n",
       "      <td>DOT</td>\n",
       "      <td>Department of Transportation</td>\n",
       "      <td>Street Condition</td>\n",
       "      <td>Pothole</td>\n",
       "      <td>10314.0</td>\n",
       "      <td>NaN</td>\n",
       "      <td>NaN</td>\n",
       "      <td>...</td>\n",
       "      <td>01 STATEN ISLAND</td>\n",
       "      <td>STATEN ISLAND</td>\n",
       "      <td>945579.0</td>\n",
       "      <td>163320.0</td>\n",
       "      <td>UNKNOWN</td>\n",
       "      <td>Unspecified</td>\n",
       "      <td>STATEN ISLAND</td>\n",
       "      <td>40.614868</td>\n",
       "      <td>-74.139287</td>\n",
       "      <td>POINT (-74.139287300499 40.614867702584)</td>\n",
       "    </tr>\n",
       "    <tr>\n",
       "      <th>4</th>\n",
       "      <td>42036613</td>\n",
       "      <td>2019-03-23 13:40:15</td>\n",
       "      <td>2019-03-28 09:44:00</td>\n",
       "      <td>DOT</td>\n",
       "      <td>Department of Transportation</td>\n",
       "      <td>Street Condition</td>\n",
       "      <td>Pothole</td>\n",
       "      <td>10475.0</td>\n",
       "      <td>CARVER LOOP</td>\n",
       "      <td>GIVAN AVENUE</td>\n",
       "      <td>...</td>\n",
       "      <td>10 BRONX</td>\n",
       "      <td>BRONX</td>\n",
       "      <td>1031923.0</td>\n",
       "      <td>259965.0</td>\n",
       "      <td>UNKNOWN</td>\n",
       "      <td>Unspecified</td>\n",
       "      <td>BRONX</td>\n",
       "      <td>40.880089</td>\n",
       "      <td>-73.827604</td>\n",
       "      <td>POINT (-73.827603802742 40.880089328815)</td>\n",
       "    </tr>\n",
       "  </tbody>\n",
       "</table>\n",
       "<p>5 rows × 25 columns</p>\n",
       "</div>"
      ],
      "text/plain": [
       "   unique_key        created_date         closed_date agency  \\\n",
       "0    42035216 2019-03-23 15:37:36 2019-03-27 07:34:00    DOT   \n",
       "1    42035218 2019-03-23 17:09:03 2019-03-27 10:13:00    DOT   \n",
       "2    42036611 2019-03-23 19:04:12                 NaT    DOT   \n",
       "3    42036612 2019-03-23 09:25:59 2019-03-27 13:20:00    DOT   \n",
       "4    42036613 2019-03-23 13:40:15 2019-03-28 09:44:00    DOT   \n",
       "\n",
       "                    agency_name    complaint_type descriptor  incident_zip  \\\n",
       "0  Department of Transportation  Street Condition    Pothole       11355.0   \n",
       "1  Department of Transportation  Street Condition    Pothole       10314.0   \n",
       "2  Department of Transportation  Street Condition    Pothole       11377.0   \n",
       "3  Department of Transportation  Street Condition    Pothole       10314.0   \n",
       "4  Department of Transportation  Street Condition    Pothole       10475.0   \n",
       "\n",
       "  cross_street_1 cross_street_2                    ...                     \\\n",
       "0     146 STREET     148 STREET                    ...                      \n",
       "1            NaN            NaN                    ...                      \n",
       "2            NaN            NaN                    ...                      \n",
       "3            NaN            NaN                    ...                      \n",
       "4    CARVER LOOP   GIVAN AVENUE                    ...                      \n",
       "\n",
       "    community_board        borough x_coordinate_state_plane  \\\n",
       "0         07 QUEENS         QUEENS                1033984.0   \n",
       "1  01 STATEN ISLAND  STATEN ISLAND                 950223.0   \n",
       "2         02 QUEENS         QUEENS                1012316.0   \n",
       "3  01 STATEN ISLAND  STATEN ISLAND                 945579.0   \n",
       "4          10 BRONX          BRONX                1031923.0   \n",
       "\n",
       "  y_coordinate_state_plane open_data_channel_type park_facility_name  \\\n",
       "0                 210706.0                UNKNOWN        Unspecified   \n",
       "1                 162661.0                UNKNOWN        Unspecified   \n",
       "2                 209017.0                UNKNOWN        Unspecified   \n",
       "3                 163320.0                UNKNOWN        Unspecified   \n",
       "4                 259965.0                UNKNOWN        Unspecified   \n",
       "\n",
       "    park_borough   latitude  longitude  \\\n",
       "0         QUEENS  40.744876 -73.820516   \n",
       "1  STATEN ISLAND  40.613078 -74.122557   \n",
       "2         QUEENS  40.740335 -73.898720   \n",
       "3  STATEN ISLAND  40.614868 -74.139287   \n",
       "4          BRONX  40.880089 -73.827604   \n",
       "\n",
       "                                   location  \n",
       "0  POINT (-73.820515773594 40.744876037242)  \n",
       "1  POINT (-74.122556992381 40.613077936948)  \n",
       "2  POINT (-73.898720018464 40.740335470005)  \n",
       "3  POINT (-74.139287300499 40.614867702584)  \n",
       "4  POINT (-73.827603802742 40.880089328815)  \n",
       "\n",
       "[5 rows x 25 columns]"
      ]
     },
     "execution_count": 7,
     "metadata": {},
     "output_type": "execute_result"
    }
   ],
   "source": [
    "potholes.dropna(thresh=(.7*potholes.shape[0]), axis=1, inplace=True)\n",
    "potholes.head()"
   ]
  },
  {
   "cell_type": "markdown",
   "metadata": {
    "colab_type": "text",
    "id": "7cvDHVtOw7xZ"
   },
   "source": [
    "Let's add a new column that gives the time between complaint creation date and completion date (either closed or resolution updated date), and remove the columns we don't need any more:"
   ]
  },
  {
   "cell_type": "code",
   "execution_count": 8,
   "metadata": {
    "colab": {},
    "colab_type": "code",
    "id": "N2Xj-9SOwu3U"
   },
   "outputs": [],
   "source": [
    "import numpy as np\n",
    "potholes['resolved_date'] = np.where(potholes['closed_date'].notnull(), potholes['closed_date'], \n",
    "                                     potholes['resolution_action_updated_date'])\n",
    "potholes['days_to_close'] = (potholes['resolved_date'].dt.date - potholes['created_date'].dt.date).dt.days\n",
    "potholes.drop(columns=['closed_date','resolution_action_updated_date'], inplace = True)"
   ]
  },
  {
   "cell_type": "markdown",
   "metadata": {
    "colab_type": "text",
    "id": "fqVlu-Qp0n5W"
   },
   "source": [
    "We can also remove columns that don't provide meaningful data for prediction (like `unique_key`) or have the same data throughout (like `agency`).  Let's take a quick peek at the number of unique values in each column to see if there are obvious candidates for removal:"
   ]
  },
  {
   "cell_type": "markdown",
   "metadata": {
    "colab_type": "text",
    "id": "OTolyHd2zjaf"
   },
   "source": [
    "Let's take another peek at our column information:\n",
    "\n"
   ]
  },
  {
   "cell_type": "code",
   "execution_count": 9,
   "metadata": {
    "colab": {
     "base_uri": "https://localhost:8080/",
     "height": 459
    },
    "colab_type": "code",
    "id": "ss5nb5Jgz2zW",
    "outputId": "402aed40-7a88-43ea-81a3-9c79c2e753ea"
   },
   "outputs": [
    {
     "data": {
      "text/plain": [
       "unique_key                  569142\n",
       "created_date                545013\n",
       "agency                           1\n",
       "agency_name                      1\n",
       "complaint_type                   2\n",
       "descriptor                       1\n",
       "incident_zip                   229\n",
       "cross_street_1                7836\n",
       "cross_street_2                7616\n",
       "address_type                     3\n",
       "city                            89\n",
       "status                           5\n",
       "resolution_description          32\n",
       "community_board                 77\n",
       "borough                          6\n",
       "x_coordinate_state_plane     93743\n",
       "y_coordinate_state_plane    100154\n",
       "open_data_channel_type           4\n",
       "park_facility_name               1\n",
       "park_borough                     6\n",
       "latitude                    216460\n",
       "longitude                   216458\n",
       "location                    216460\n",
       "resolved_date               409077\n",
       "days_to_close                  286\n",
       "dtype: int64"
      ]
     },
     "execution_count": 9,
     "metadata": {},
     "output_type": "execute_result"
    }
   ],
   "source": [
    "potholes.nunique()"
   ]
  },
  {
   "cell_type": "markdown",
   "metadata": {
    "colab_type": "text",
    "id": "8O_qbj8H0M1N"
   },
   "source": [
    "OK, so we can get rid of `agency`, `agency_name`, `descriptor`, and `park_facility_name` for sure!  As stated earlier, `unique_key` doesn't add any useful info, so we can get of it as well.  Location is essentially a duplicate of lat/long, so we can get rid of that column, too.  Unfortunately, we don't have any information about `x_ccordinate_state_plane` and `y_coordinate_state_plane`, so we'll remove them.  There's not much we can do with that data!"
   ]
  },
  {
   "cell_type": "code",
   "execution_count": 10,
   "metadata": {
    "colab": {},
    "colab_type": "code",
    "id": "-3JRfcjm1ZVd"
   },
   "outputs": [],
   "source": [
    "potholes.drop(columns = ['unique_key', 'agency', 'agency_name', 'descriptor', \n",
    "                         'park_facility_name', 'location', 'x_coordinate_state_plane', \n",
    "                         'y_coordinate_state_plane'], inplace = True)"
   ]
  },
  {
   "cell_type": "markdown",
   "metadata": {
    "colab_type": "text",
    "id": "ejJKM-1c1j_d"
   },
   "source": [
    "Let's peek at the column data now:"
   ]
  },
  {
   "cell_type": "code",
   "execution_count": 11,
   "metadata": {
    "colab": {
     "base_uri": "https://localhost:8080/",
     "height": 391
    },
    "colab_type": "code",
    "id": "lu1PwsRy16lP",
    "outputId": "6bfbeb6b-49d4-47d3-e26f-7bb634bbfe31"
   },
   "outputs": [
    {
     "name": "stdout",
     "output_type": "stream",
     "text": [
      "<class 'pandas.core.frame.DataFrame'>\n",
      "RangeIndex: 569142 entries, 0 to 569141\n",
      "Data columns (total 17 columns):\n",
      "created_date              569142 non-null datetime64[ns]\n",
      "complaint_type            569142 non-null object\n",
      "incident_zip              525046 non-null float64\n",
      "cross_street_1            462612 non-null object\n",
      "cross_street_2            462547 non-null object\n",
      "address_type              551495 non-null object\n",
      "city                      528465 non-null object\n",
      "status                    569142 non-null object\n",
      "resolution_description    568606 non-null object\n",
      "community_board           569142 non-null object\n",
      "borough                   569142 non-null object\n",
      "open_data_channel_type    569142 non-null object\n",
      "park_borough              569142 non-null object\n",
      "latitude                  521193 non-null float64\n",
      "longitude                 521193 non-null float64\n",
      "resolved_date             568949 non-null datetime64[ns]\n",
      "days_to_close             568949 non-null float64\n",
      "dtypes: datetime64[ns](2), float64(4), object(11)\n",
      "memory usage: 73.8+ MB\n"
     ]
    }
   ],
   "source": [
    "potholes.info()"
   ]
  },
  {
   "cell_type": "markdown",
   "metadata": {
    "colab_type": "text",
    "id": "CgHIskWRpZen"
   },
   "source": [
    "Great, that's  a compact DataFrame with not very many missing values and not a lot of duplication of data across columns.  Let's save that data!"
   ]
  },
  {
   "cell_type": "code",
   "execution_count": 12,
   "metadata": {
    "colab": {},
    "colab_type": "code",
    "id": "NiDNseIu22XW"
   },
   "outputs": [],
   "source": [
    "potholes.to_csv(\"../data/cleaned_311_pothole_data.csv\", index=False)"
   ]
  }
 ],
 "metadata": {
  "colab": {
   "collapsed_sections": [],
   "name": "Ingesting and Preparing.ipynb",
   "provenance": [],
   "version": "0.3.2"
  },
  "kernelspec": {
   "display_name": "Python 3",
   "language": "python",
   "name": "python3"
  },
  "language_info": {
   "codemirror_mode": {
    "name": "ipython",
    "version": 3
   },
   "file_extension": ".py",
   "mimetype": "text/x-python",
   "name": "python",
   "nbconvert_exporter": "python",
   "pygments_lexer": "ipython3",
   "version": "3.7.1"
  }
 },
 "nbformat": 4,
 "nbformat_minor": 1
}
