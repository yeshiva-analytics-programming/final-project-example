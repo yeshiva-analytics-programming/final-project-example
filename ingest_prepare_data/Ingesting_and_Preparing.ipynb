{
 "cells": [
  {
   "cell_type": "markdown",
   "metadata": {
    "colab_type": "text",
    "id": "mRsQLnOTfaq2"
   },
   "source": [
    "# Obtaining NYC 311 Data\n",
    "\n",
    "New York's Open Data Portal (https://opendata.cityofnewyork.us/) uses the Socrata Open Data API to give API access to data hosted on the site.\n",
    "\n",
    "This is significant because the datasets on NYC Open Data are often many millions of rows -- prohibitively large for some.  It's helpful to be able to download only the first, say, 50 thousand rows to get a taste of what the entire dataset is.  We can also specify only certain data, using column names and conditions.\n",
    "\n",
    "## 311 Overview\n",
    "\n",
    "In the city of New York, citizens with non-emergency complaints (e.g. trash non-collection, rodent infestations) can call 311 to make a Service Request. These are recorded and shared on New York's open data site at https://nycopendata.socrata.com/Social-Services/311-Service-Requests-from-2010-to-Present/erm2-nwe9.\n",
    "\n",
    "## High-Level Data Description\n",
    "\n",
    "The data dates from 2010 to the current day, with data being updated on a daily basis. At the time of this writing, there are over 20 million rows, each row representing a single service request, and over 40 columns which represent aspects of each service request, such as the street address being referenced, the type of complaint, the agency responsible, the date of the service request, etc.\n",
    "\n",
    "## Bring in Data via pandas\n",
    "\n",
    "We're only going to bring in only the rows that have 'Pothole' in the descriptor field.  We'll set an upper limit of 1 million rows."
   ]
  },
  {
   "cell_type": "code",
   "execution_count": 1,
   "metadata": {
    "colab": {
     "base_uri": "https://localhost:8080/",
     "height": 51
    },
    "colab_type": "code",
    "id": "PWo7BN2ffYs_",
    "outputId": "b95035fe-24dc-4d35-c1be-61ee46eeecc2"
   },
   "outputs": [
    {
     "name": "stderr",
     "output_type": "stream",
     "text": [
      "/anaconda3/lib/python3.7/site-packages/IPython/core/interactiveshell.py:3020: DtypeWarning: Columns (17) have mixed types. Specify dtype option on import or set low_memory=False.\n",
      "  interactivity=interactivity, compiler=compiler, result=result)\n"
     ]
    }
   ],
   "source": [
    "import pandas as pd\n",
    "potholes = pd.read_csv(\"https://data.cityofnewyork.us/resource/fhrw-4uyv.csv?descriptor=Pothole&$limit=1000000\")"
   ]
  },
  {
   "cell_type": "markdown",
   "metadata": {
    "colab_type": "text",
    "id": "rVKtt60BmnUU"
   },
   "source": [
    "How large is this data?"
   ]
  },
  {
   "cell_type": "code",
   "execution_count": 2,
   "metadata": {
    "colab": {
     "base_uri": "https://localhost:8080/",
     "height": 34
    },
    "colab_type": "code",
    "id": "B-PKeCY5mp8g",
    "outputId": "d346c49e-c9d1-44ea-90ce-4e2a764ff8a8"
   },
   "outputs": [
    {
     "data": {
      "text/plain": [
       "(569331, 45)"
      ]
     },
     "execution_count": 2,
     "metadata": {},
     "output_type": "execute_result"
    }
   ],
   "source": [
    "potholes.shape"
   ]
  },
  {
   "cell_type": "markdown",
   "metadata": {
    "colab_type": "text",
    "id": "3M-Wgco7ku22"
   },
   "source": [
    "Let's take a peek at the data in several ways.  We'll start by looking at the first few rows.  We'll scroll to the right to see all the columns."
   ]
  },
  {
   "cell_type": "code",
   "execution_count": 3,
   "metadata": {
    "colab": {
     "base_uri": "https://localhost:8080/",
     "height": 394
    },
    "colab_type": "code",
    "id": "cxzTDL00k0YC",
    "outputId": "891e53ec-2506-4b2e-fc6e-700d21c88c72"
   },
   "outputs": [
    {
     "data": {
      "text/html": [
       "<div>\n",
       "<style scoped>\n",
       "    .dataframe tbody tr th:only-of-type {\n",
       "        vertical-align: middle;\n",
       "    }\n",
       "\n",
       "    .dataframe tbody tr th {\n",
       "        vertical-align: top;\n",
       "    }\n",
       "\n",
       "    .dataframe thead th {\n",
       "        text-align: right;\n",
       "    }\n",
       "</style>\n",
       "<table border=\"1\" class=\"dataframe\">\n",
       "  <thead>\n",
       "    <tr style=\"text-align: right;\">\n",
       "      <th></th>\n",
       "      <th>unique_key</th>\n",
       "      <th>created_date</th>\n",
       "      <th>closed_date</th>\n",
       "      <th>agency</th>\n",
       "      <th>agency_name</th>\n",
       "      <th>complaint_type</th>\n",
       "      <th>descriptor</th>\n",
       "      <th>location_type</th>\n",
       "      <th>incident_zip</th>\n",
       "      <th>incident_address</th>\n",
       "      <th>...</th>\n",
       "      <th>bridge_highway_direction</th>\n",
       "      <th>road_ramp</th>\n",
       "      <th>bridge_highway_segment</th>\n",
       "      <th>latitude</th>\n",
       "      <th>longitude</th>\n",
       "      <th>location_city</th>\n",
       "      <th>location</th>\n",
       "      <th>location_address</th>\n",
       "      <th>location_zip</th>\n",
       "      <th>location_state</th>\n",
       "    </tr>\n",
       "  </thead>\n",
       "  <tbody>\n",
       "    <tr>\n",
       "      <th>0</th>\n",
       "      <td>34690422</td>\n",
       "      <td>2016-11-01T15:01:46.000</td>\n",
       "      <td>2016-11-02T09:45:00.000</td>\n",
       "      <td>DOT</td>\n",
       "      <td>Department of Transportation</td>\n",
       "      <td>Street Condition</td>\n",
       "      <td>Pothole</td>\n",
       "      <td>NaN</td>\n",
       "      <td>NaN</td>\n",
       "      <td>CONEY ISLAND AVENUE</td>\n",
       "      <td>...</td>\n",
       "      <td>NaN</td>\n",
       "      <td>NaN</td>\n",
       "      <td>NaN</td>\n",
       "      <td>NaN</td>\n",
       "      <td>NaN</td>\n",
       "      <td>NaN</td>\n",
       "      <td>NaN</td>\n",
       "      <td>NaN</td>\n",
       "      <td>NaN</td>\n",
       "      <td>NaN</td>\n",
       "    </tr>\n",
       "    <tr>\n",
       "      <th>1</th>\n",
       "      <td>42107874</td>\n",
       "      <td>2019-04-01T22:22:27.000</td>\n",
       "      <td>2019-04-02T10:51:00.000</td>\n",
       "      <td>DOT</td>\n",
       "      <td>Department of Transportation</td>\n",
       "      <td>Street Condition</td>\n",
       "      <td>Pothole</td>\n",
       "      <td>NaN</td>\n",
       "      <td>10306.0</td>\n",
       "      <td>355 EDISON STREET</td>\n",
       "      <td>...</td>\n",
       "      <td>NaN</td>\n",
       "      <td>NaN</td>\n",
       "      <td>NaN</td>\n",
       "      <td>40.572961</td>\n",
       "      <td>-74.113157</td>\n",
       "      <td>NaN</td>\n",
       "      <td>POINT (-74.113156832531 40.572961322519)</td>\n",
       "      <td>NaN</td>\n",
       "      <td>NaN</td>\n",
       "      <td>NaN</td>\n",
       "    </tr>\n",
       "    <tr>\n",
       "      <th>2</th>\n",
       "      <td>24766901</td>\n",
       "      <td>2013-01-09T11:20:10.000</td>\n",
       "      <td>2013-01-10T14:04:00.000</td>\n",
       "      <td>DOT</td>\n",
       "      <td>Department of Transportation</td>\n",
       "      <td>Street Condition</td>\n",
       "      <td>Pothole</td>\n",
       "      <td>NaN</td>\n",
       "      <td>NaN</td>\n",
       "      <td>BARUCH DRIVE</td>\n",
       "      <td>...</td>\n",
       "      <td>NaN</td>\n",
       "      <td>NaN</td>\n",
       "      <td>NaN</td>\n",
       "      <td>NaN</td>\n",
       "      <td>NaN</td>\n",
       "      <td>NaN</td>\n",
       "      <td>NaN</td>\n",
       "      <td>NaN</td>\n",
       "      <td>NaN</td>\n",
       "      <td>NaN</td>\n",
       "    </tr>\n",
       "    <tr>\n",
       "      <th>3</th>\n",
       "      <td>24767098</td>\n",
       "      <td>2013-01-10T14:45:07.000</td>\n",
       "      <td>2013-01-11T10:20:00.000</td>\n",
       "      <td>DOT</td>\n",
       "      <td>Department of Transportation</td>\n",
       "      <td>Street Condition</td>\n",
       "      <td>Pothole</td>\n",
       "      <td>NaN</td>\n",
       "      <td>11101.0</td>\n",
       "      <td>10 STREET</td>\n",
       "      <td>...</td>\n",
       "      <td>NaN</td>\n",
       "      <td>NaN</td>\n",
       "      <td>NaN</td>\n",
       "      <td>NaN</td>\n",
       "      <td>NaN</td>\n",
       "      <td>NaN</td>\n",
       "      <td>NaN</td>\n",
       "      <td>NaN</td>\n",
       "      <td>NaN</td>\n",
       "      <td>NaN</td>\n",
       "    </tr>\n",
       "    <tr>\n",
       "      <th>4</th>\n",
       "      <td>42082809</td>\n",
       "      <td>2019-03-29T07:05:49.000</td>\n",
       "      <td>2019-03-30T20:00:00.000</td>\n",
       "      <td>DOT</td>\n",
       "      <td>Department of Transportation</td>\n",
       "      <td>Street Condition</td>\n",
       "      <td>Pothole</td>\n",
       "      <td>NaN</td>\n",
       "      <td>10025.0</td>\n",
       "      <td>122 MANHATTAN AVENUE</td>\n",
       "      <td>...</td>\n",
       "      <td>NaN</td>\n",
       "      <td>NaN</td>\n",
       "      <td>NaN</td>\n",
       "      <td>40.798200</td>\n",
       "      <td>-73.961809</td>\n",
       "      <td>NaN</td>\n",
       "      <td>POINT (-73.961809120646 40.798199855119)</td>\n",
       "      <td>NaN</td>\n",
       "      <td>NaN</td>\n",
       "      <td>NaN</td>\n",
       "    </tr>\n",
       "  </tbody>\n",
       "</table>\n",
       "<p>5 rows × 45 columns</p>\n",
       "</div>"
      ],
      "text/plain": [
       "   unique_key             created_date              closed_date agency  \\\n",
       "0    34690422  2016-11-01T15:01:46.000  2016-11-02T09:45:00.000    DOT   \n",
       "1    42107874  2019-04-01T22:22:27.000  2019-04-02T10:51:00.000    DOT   \n",
       "2    24766901  2013-01-09T11:20:10.000  2013-01-10T14:04:00.000    DOT   \n",
       "3    24767098  2013-01-10T14:45:07.000  2013-01-11T10:20:00.000    DOT   \n",
       "4    42082809  2019-03-29T07:05:49.000  2019-03-30T20:00:00.000    DOT   \n",
       "\n",
       "                    agency_name    complaint_type descriptor location_type  \\\n",
       "0  Department of Transportation  Street Condition    Pothole           NaN   \n",
       "1  Department of Transportation  Street Condition    Pothole           NaN   \n",
       "2  Department of Transportation  Street Condition    Pothole           NaN   \n",
       "3  Department of Transportation  Street Condition    Pothole           NaN   \n",
       "4  Department of Transportation  Street Condition    Pothole           NaN   \n",
       "\n",
       "   incident_zip      incident_address      ...       bridge_highway_direction  \\\n",
       "0           NaN   CONEY ISLAND AVENUE      ...                            NaN   \n",
       "1       10306.0     355 EDISON STREET      ...                            NaN   \n",
       "2           NaN          BARUCH DRIVE      ...                            NaN   \n",
       "3       11101.0             10 STREET      ...                            NaN   \n",
       "4       10025.0  122 MANHATTAN AVENUE      ...                            NaN   \n",
       "\n",
       "  road_ramp bridge_highway_segment   latitude  longitude location_city  \\\n",
       "0       NaN                    NaN        NaN        NaN           NaN   \n",
       "1       NaN                    NaN  40.572961 -74.113157           NaN   \n",
       "2       NaN                    NaN        NaN        NaN           NaN   \n",
       "3       NaN                    NaN        NaN        NaN           NaN   \n",
       "4       NaN                    NaN  40.798200 -73.961809           NaN   \n",
       "\n",
       "                                   location location_address  location_zip  \\\n",
       "0                                       NaN              NaN           NaN   \n",
       "1  POINT (-74.113156832531 40.572961322519)              NaN           NaN   \n",
       "2                                       NaN              NaN           NaN   \n",
       "3                                       NaN              NaN           NaN   \n",
       "4  POINT (-73.961809120646 40.798199855119)              NaN           NaN   \n",
       "\n",
       "  location_state  \n",
       "0            NaN  \n",
       "1            NaN  \n",
       "2            NaN  \n",
       "3            NaN  \n",
       "4            NaN  \n",
       "\n",
       "[5 rows x 45 columns]"
      ]
     },
     "execution_count": 3,
     "metadata": {},
     "output_type": "execute_result"
    }
   ],
   "source": [
    "potholes.head()"
   ]
  },
  {
   "cell_type": "markdown",
   "metadata": {
    "colab_type": "text",
    "id": "Eu3dUVcwmZWF"
   },
   "source": [
    "Let's look at the overall number of present vs absent values in each column, as well as the column type:"
   ]
  },
  {
   "cell_type": "code",
   "execution_count": 4,
   "metadata": {
    "colab": {
     "base_uri": "https://localhost:8080/",
     "height": 867
    },
    "colab_type": "code",
    "id": "w0L-iEkNmtel",
    "outputId": "61f84f14-adfb-4563-b063-45e2b14fab55"
   },
   "outputs": [
    {
     "name": "stdout",
     "output_type": "stream",
     "text": [
      "<class 'pandas.core.frame.DataFrame'>\n",
      "RangeIndex: 569331 entries, 0 to 569330\n",
      "Data columns (total 45 columns):\n",
      "unique_key                        569331 non-null int64\n",
      "created_date                      569331 non-null object\n",
      "closed_date                       566424 non-null object\n",
      "agency                            569331 non-null object\n",
      "agency_name                       569331 non-null object\n",
      "complaint_type                    569331 non-null object\n",
      "descriptor                        569331 non-null object\n",
      "location_type                     1900 non-null object\n",
      "incident_zip                      525231 non-null float64\n",
      "incident_address                  357148 non-null object\n",
      "street_name                       357148 non-null object\n",
      "cross_street_1                    462767 non-null object\n",
      "cross_street_2                    462702 non-null object\n",
      "intersection_street_1             202993 non-null object\n",
      "intersection_street_2             202991 non-null object\n",
      "address_type                      551684 non-null object\n",
      "city                              528650 non-null object\n",
      "landmark                          1 non-null object\n",
      "facility_type                     0 non-null float64\n",
      "status                            569331 non-null object\n",
      "due_date                          1872 non-null object\n",
      "resolution_description            568795 non-null object\n",
      "resolution_action_updated_date    569138 non-null object\n",
      "community_board                   569331 non-null object\n",
      "bbl                               227357 non-null float64\n",
      "borough                           569331 non-null object\n",
      "x_coordinate_state_plane          521373 non-null float64\n",
      "y_coordinate_state_plane          521373 non-null float64\n",
      "open_data_channel_type            569331 non-null object\n",
      "park_facility_name                569331 non-null object\n",
      "park_borough                      569331 non-null object\n",
      "vehicle_type                      0 non-null float64\n",
      "taxi_company_borough              0 non-null float64\n",
      "taxi_pick_up_location             0 non-null float64\n",
      "bridge_highway_name               1904 non-null object\n",
      "bridge_highway_direction          1904 non-null object\n",
      "road_ramp                         1904 non-null object\n",
      "bridge_highway_segment            1904 non-null object\n",
      "latitude                          521373 non-null float64\n",
      "longitude                         521373 non-null float64\n",
      "location_city                     0 non-null float64\n",
      "location                          521373 non-null object\n",
      "location_address                  0 non-null float64\n",
      "location_zip                      0 non-null float64\n",
      "location_state                    0 non-null float64\n",
      "dtypes: float64(14), int64(1), object(30)\n",
      "memory usage: 195.5+ MB\n"
     ]
    }
   ],
   "source": [
    "potholes.info()"
   ]
  },
  {
   "cell_type": "markdown",
   "metadata": {
    "colab_type": "text",
    "id": "-76S-5qYm7S_"
   },
   "source": [
    "## Cleaning and Preparing Data\n",
    "\n",
    "We see multiple columns with few to no values, and we also see columns that have data types that aren't quite right (date stamps as string objects).  We'll take that on in this section.\n",
    "\n",
    "### Dates\n",
    "\n",
    "Let's begin by converting dates:"
   ]
  },
  {
   "cell_type": "code",
   "execution_count": 5,
   "metadata": {
    "colab": {},
    "colab_type": "code",
    "id": "32vrZNiEncHI"
   },
   "outputs": [],
   "source": [
    "for col in ['created_date', 'closed_date', 'due_date', 'resolution_action_updated_date']:\n",
    "    potholes[col] = pd.to_datetime(potholes[col])"
   ]
  },
  {
   "cell_type": "markdown",
   "metadata": {
    "colab_type": "text",
    "id": "EbG-uBhcoQ7s"
   },
   "source": [
    "And now let's peek at the dates:"
   ]
  },
  {
   "cell_type": "code",
   "execution_count": 6,
   "metadata": {
    "colab": {
     "base_uri": "https://localhost:8080/",
     "height": 235
    },
    "colab_type": "code",
    "id": "lVFhL0GgoTkT",
    "outputId": "1865ee26-c93c-45d9-f622-1fca64088307"
   },
   "outputs": [
    {
     "data": {
      "text/html": [
       "<div>\n",
       "<style scoped>\n",
       "    .dataframe tbody tr th:only-of-type {\n",
       "        vertical-align: middle;\n",
       "    }\n",
       "\n",
       "    .dataframe tbody tr th {\n",
       "        vertical-align: top;\n",
       "    }\n",
       "\n",
       "    .dataframe thead th {\n",
       "        text-align: right;\n",
       "    }\n",
       "</style>\n",
       "<table border=\"1\" class=\"dataframe\">\n",
       "  <thead>\n",
       "    <tr style=\"text-align: right;\">\n",
       "      <th></th>\n",
       "      <th>created_date</th>\n",
       "      <th>closed_date</th>\n",
       "      <th>due_date</th>\n",
       "      <th>resolution_action_updated_date</th>\n",
       "    </tr>\n",
       "  </thead>\n",
       "  <tbody>\n",
       "    <tr>\n",
       "      <th>count</th>\n",
       "      <td>569331</td>\n",
       "      <td>566424</td>\n",
       "      <td>1872</td>\n",
       "      <td>569138</td>\n",
       "    </tr>\n",
       "    <tr>\n",
       "      <th>unique</th>\n",
       "      <td>545184</td>\n",
       "      <td>407240</td>\n",
       "      <td>1575</td>\n",
       "      <td>410364</td>\n",
       "    </tr>\n",
       "    <tr>\n",
       "      <th>top</th>\n",
       "      <td>2010-03-26 07:00:00</td>\n",
       "      <td>2011-02-10 00:00:00</td>\n",
       "      <td>2014-06-25 18:44:38</td>\n",
       "      <td>2014-02-23 00:00:00</td>\n",
       "    </tr>\n",
       "    <tr>\n",
       "      <th>freq</th>\n",
       "      <td>94</td>\n",
       "      <td>70</td>\n",
       "      <td>17</td>\n",
       "      <td>48</td>\n",
       "    </tr>\n",
       "    <tr>\n",
       "      <th>first</th>\n",
       "      <td>2010-01-01 01:57:23</td>\n",
       "      <td>2010-01-01 06:08:33</td>\n",
       "      <td>2010-06-22 16:28:07</td>\n",
       "      <td>2010-01-01 06:08:33</td>\n",
       "    </tr>\n",
       "    <tr>\n",
       "      <th>last</th>\n",
       "      <td>2019-08-01 01:01:28</td>\n",
       "      <td>2019-07-31 21:46:00</td>\n",
       "      <td>2019-11-24 09:43:36</td>\n",
       "      <td>2019-08-01 01:01:28</td>\n",
       "    </tr>\n",
       "  </tbody>\n",
       "</table>\n",
       "</div>"
      ],
      "text/plain": [
       "               created_date          closed_date             due_date  \\\n",
       "count                569331               566424                 1872   \n",
       "unique               545184               407240                 1575   \n",
       "top     2010-03-26 07:00:00  2011-02-10 00:00:00  2014-06-25 18:44:38   \n",
       "freq                     94                   70                   17   \n",
       "first   2010-01-01 01:57:23  2010-01-01 06:08:33  2010-06-22 16:28:07   \n",
       "last    2019-08-01 01:01:28  2019-07-31 21:46:00  2019-11-24 09:43:36   \n",
       "\n",
       "       resolution_action_updated_date  \n",
       "count                          569138  \n",
       "unique                         410364  \n",
       "top               2014-02-23 00:00:00  \n",
       "freq                               48  \n",
       "first             2010-01-01 06:08:33  \n",
       "last              2019-08-01 01:01:28  "
      ]
     },
     "execution_count": 6,
     "metadata": {},
     "output_type": "execute_result"
    }
   ],
   "source": [
    "potholes[['created_date', 'closed_date', 'due_date', 'resolution_action_updated_date']].describe()"
   ]
  },
  {
   "cell_type": "markdown",
   "metadata": {
    "colab_type": "text",
    "id": "PKdtF5Tsog-h"
   },
   "source": [
    "Wonderful, we don't have any outlier dates.  All the dates fall within an expected range of 2010-2019.  Let's now narrow our data by eliminating columns with greater than 70% missing values."
   ]
  },
  {
   "cell_type": "code",
   "execution_count": 7,
   "metadata": {
    "colab": {
     "base_uri": "https://localhost:8080/",
     "height": 394
    },
    "colab_type": "code",
    "id": "LgwF-M8Gp8J9",
    "outputId": "dd8b2b87-e985-439a-add6-e7fef0b06b2f"
   },
   "outputs": [
    {
     "data": {
      "text/html": [
       "<div>\n",
       "<style scoped>\n",
       "    .dataframe tbody tr th:only-of-type {\n",
       "        vertical-align: middle;\n",
       "    }\n",
       "\n",
       "    .dataframe tbody tr th {\n",
       "        vertical-align: top;\n",
       "    }\n",
       "\n",
       "    .dataframe thead th {\n",
       "        text-align: right;\n",
       "    }\n",
       "</style>\n",
       "<table border=\"1\" class=\"dataframe\">\n",
       "  <thead>\n",
       "    <tr style=\"text-align: right;\">\n",
       "      <th></th>\n",
       "      <th>unique_key</th>\n",
       "      <th>created_date</th>\n",
       "      <th>closed_date</th>\n",
       "      <th>agency</th>\n",
       "      <th>agency_name</th>\n",
       "      <th>complaint_type</th>\n",
       "      <th>descriptor</th>\n",
       "      <th>incident_zip</th>\n",
       "      <th>cross_street_1</th>\n",
       "      <th>cross_street_2</th>\n",
       "      <th>...</th>\n",
       "      <th>community_board</th>\n",
       "      <th>borough</th>\n",
       "      <th>x_coordinate_state_plane</th>\n",
       "      <th>y_coordinate_state_plane</th>\n",
       "      <th>open_data_channel_type</th>\n",
       "      <th>park_facility_name</th>\n",
       "      <th>park_borough</th>\n",
       "      <th>latitude</th>\n",
       "      <th>longitude</th>\n",
       "      <th>location</th>\n",
       "    </tr>\n",
       "  </thead>\n",
       "  <tbody>\n",
       "    <tr>\n",
       "      <th>0</th>\n",
       "      <td>34690422</td>\n",
       "      <td>2016-11-01 15:01:46</td>\n",
       "      <td>2016-11-02 09:45:00</td>\n",
       "      <td>DOT</td>\n",
       "      <td>Department of Transportation</td>\n",
       "      <td>Street Condition</td>\n",
       "      <td>Pothole</td>\n",
       "      <td>NaN</td>\n",
       "      <td>AVENUE M</td>\n",
       "      <td>AVENUE N</td>\n",
       "      <td>...</td>\n",
       "      <td>Unspecified BROOKLYN</td>\n",
       "      <td>BROOKLYN</td>\n",
       "      <td>NaN</td>\n",
       "      <td>NaN</td>\n",
       "      <td>UNKNOWN</td>\n",
       "      <td>Unspecified</td>\n",
       "      <td>BROOKLYN</td>\n",
       "      <td>NaN</td>\n",
       "      <td>NaN</td>\n",
       "      <td>NaN</td>\n",
       "    </tr>\n",
       "    <tr>\n",
       "      <th>1</th>\n",
       "      <td>42107874</td>\n",
       "      <td>2019-04-01 22:22:27</td>\n",
       "      <td>2019-04-02 10:51:00</td>\n",
       "      <td>DOT</td>\n",
       "      <td>Department of Transportation</td>\n",
       "      <td>Street Condition</td>\n",
       "      <td>Pothole</td>\n",
       "      <td>10306.0</td>\n",
       "      <td>JACQUES AVENUE</td>\n",
       "      <td>NEW DORP LANE</td>\n",
       "      <td>...</td>\n",
       "      <td>02 STATEN ISLAND</td>\n",
       "      <td>STATEN ISLAND</td>\n",
       "      <td>952814.0</td>\n",
       "      <td>148042.0</td>\n",
       "      <td>UNKNOWN</td>\n",
       "      <td>Unspecified</td>\n",
       "      <td>STATEN ISLAND</td>\n",
       "      <td>40.572961</td>\n",
       "      <td>-74.113157</td>\n",
       "      <td>POINT (-74.113156832531 40.572961322519)</td>\n",
       "    </tr>\n",
       "    <tr>\n",
       "      <th>2</th>\n",
       "      <td>24766901</td>\n",
       "      <td>2013-01-09 11:20:10</td>\n",
       "      <td>2013-01-10 14:04:00</td>\n",
       "      <td>DOT</td>\n",
       "      <td>Department of Transportation</td>\n",
       "      <td>Street Condition</td>\n",
       "      <td>Pothole</td>\n",
       "      <td>NaN</td>\n",
       "      <td>DELANCEY STREET</td>\n",
       "      <td>WILLIAMSBURG BRIDGE</td>\n",
       "      <td>...</td>\n",
       "      <td>Unspecified MANHATTAN</td>\n",
       "      <td>MANHATTAN</td>\n",
       "      <td>NaN</td>\n",
       "      <td>NaN</td>\n",
       "      <td>UNKNOWN</td>\n",
       "      <td>Unspecified</td>\n",
       "      <td>MANHATTAN</td>\n",
       "      <td>NaN</td>\n",
       "      <td>NaN</td>\n",
       "      <td>NaN</td>\n",
       "    </tr>\n",
       "    <tr>\n",
       "      <th>3</th>\n",
       "      <td>24767098</td>\n",
       "      <td>2013-01-10 14:45:07</td>\n",
       "      <td>2013-01-11 10:20:00</td>\n",
       "      <td>DOT</td>\n",
       "      <td>Department of Transportation</td>\n",
       "      <td>Street Condition</td>\n",
       "      <td>Pothole</td>\n",
       "      <td>11101.0</td>\n",
       "      <td>40 AVENUE</td>\n",
       "      <td>41 AVENUE</td>\n",
       "      <td>...</td>\n",
       "      <td>Unspecified QUEENS</td>\n",
       "      <td>QUEENS</td>\n",
       "      <td>NaN</td>\n",
       "      <td>NaN</td>\n",
       "      <td>UNKNOWN</td>\n",
       "      <td>Unspecified</td>\n",
       "      <td>QUEENS</td>\n",
       "      <td>NaN</td>\n",
       "      <td>NaN</td>\n",
       "      <td>NaN</td>\n",
       "    </tr>\n",
       "    <tr>\n",
       "      <th>4</th>\n",
       "      <td>42082809</td>\n",
       "      <td>2019-03-29 07:05:49</td>\n",
       "      <td>2019-03-30 20:00:00</td>\n",
       "      <td>DOT</td>\n",
       "      <td>Department of Transportation</td>\n",
       "      <td>Street Condition</td>\n",
       "      <td>Pothole</td>\n",
       "      <td>10025.0</td>\n",
       "      <td>WEST  105 STREET</td>\n",
       "      <td>WEST  106 STREET</td>\n",
       "      <td>...</td>\n",
       "      <td>07 MANHATTAN</td>\n",
       "      <td>MANHATTAN</td>\n",
       "      <td>994824.0</td>\n",
       "      <td>230085.0</td>\n",
       "      <td>UNKNOWN</td>\n",
       "      <td>Unspecified</td>\n",
       "      <td>MANHATTAN</td>\n",
       "      <td>40.798200</td>\n",
       "      <td>-73.961809</td>\n",
       "      <td>POINT (-73.961809120646 40.798199855119)</td>\n",
       "    </tr>\n",
       "  </tbody>\n",
       "</table>\n",
       "<p>5 rows × 25 columns</p>\n",
       "</div>"
      ],
      "text/plain": [
       "   unique_key        created_date         closed_date agency  \\\n",
       "0    34690422 2016-11-01 15:01:46 2016-11-02 09:45:00    DOT   \n",
       "1    42107874 2019-04-01 22:22:27 2019-04-02 10:51:00    DOT   \n",
       "2    24766901 2013-01-09 11:20:10 2013-01-10 14:04:00    DOT   \n",
       "3    24767098 2013-01-10 14:45:07 2013-01-11 10:20:00    DOT   \n",
       "4    42082809 2019-03-29 07:05:49 2019-03-30 20:00:00    DOT   \n",
       "\n",
       "                    agency_name    complaint_type descriptor  incident_zip  \\\n",
       "0  Department of Transportation  Street Condition    Pothole           NaN   \n",
       "1  Department of Transportation  Street Condition    Pothole       10306.0   \n",
       "2  Department of Transportation  Street Condition    Pothole           NaN   \n",
       "3  Department of Transportation  Street Condition    Pothole       11101.0   \n",
       "4  Department of Transportation  Street Condition    Pothole       10025.0   \n",
       "\n",
       "     cross_street_1       cross_street_2  \\\n",
       "0          AVENUE M             AVENUE N   \n",
       "1    JACQUES AVENUE        NEW DORP LANE   \n",
       "2   DELANCEY STREET  WILLIAMSBURG BRIDGE   \n",
       "3         40 AVENUE            41 AVENUE   \n",
       "4  WEST  105 STREET     WEST  106 STREET   \n",
       "\n",
       "                     ...                           community_board  \\\n",
       "0                    ...                      Unspecified BROOKLYN   \n",
       "1                    ...                          02 STATEN ISLAND   \n",
       "2                    ...                     Unspecified MANHATTAN   \n",
       "3                    ...                        Unspecified QUEENS   \n",
       "4                    ...                              07 MANHATTAN   \n",
       "\n",
       "         borough x_coordinate_state_plane y_coordinate_state_plane  \\\n",
       "0       BROOKLYN                      NaN                      NaN   \n",
       "1  STATEN ISLAND                 952814.0                 148042.0   \n",
       "2      MANHATTAN                      NaN                      NaN   \n",
       "3         QUEENS                      NaN                      NaN   \n",
       "4      MANHATTAN                 994824.0                 230085.0   \n",
       "\n",
       "  open_data_channel_type park_facility_name   park_borough   latitude  \\\n",
       "0                UNKNOWN        Unspecified       BROOKLYN        NaN   \n",
       "1                UNKNOWN        Unspecified  STATEN ISLAND  40.572961   \n",
       "2                UNKNOWN        Unspecified      MANHATTAN        NaN   \n",
       "3                UNKNOWN        Unspecified         QUEENS        NaN   \n",
       "4                UNKNOWN        Unspecified      MANHATTAN  40.798200   \n",
       "\n",
       "   longitude                                  location  \n",
       "0        NaN                                       NaN  \n",
       "1 -74.113157  POINT (-74.113156832531 40.572961322519)  \n",
       "2        NaN                                       NaN  \n",
       "3        NaN                                       NaN  \n",
       "4 -73.961809  POINT (-73.961809120646 40.798199855119)  \n",
       "\n",
       "[5 rows x 25 columns]"
      ]
     },
     "execution_count": 7,
     "metadata": {},
     "output_type": "execute_result"
    }
   ],
   "source": [
    "potholes.dropna(thresh=(.7*potholes.shape[0]), axis=1, inplace=True)\n",
    "potholes.head()"
   ]
  },
  {
   "cell_type": "markdown",
   "metadata": {
    "colab_type": "text",
    "id": "7cvDHVtOw7xZ"
   },
   "source": [
    "Let's add a new column that gives the time between complaint creation date and completion date (either closed or resolution updated date), and remove the columns we don't need any more:"
   ]
  },
  {
   "cell_type": "code",
   "execution_count": 8,
   "metadata": {
    "colab": {},
    "colab_type": "code",
    "id": "N2Xj-9SOwu3U"
   },
   "outputs": [],
   "source": [
    "import numpy as np\n",
    "potholes['resolved_date'] = np.where(potholes['closed_date'].notnull(), potholes['closed_date'], \n",
    "                                     potholes['resolution_action_updated_date'])\n",
    "potholes['days_to_close'] = (potholes['resolved_date'].dt.date - potholes['created_date'].dt.date).dt.days\n",
    "potholes.drop(columns=['closed_date','resolution_action_updated_date'], inplace = True)"
   ]
  },
  {
   "cell_type": "markdown",
   "metadata": {
    "colab_type": "text",
    "id": "fqVlu-Qp0n5W"
   },
   "source": [
    "We can also remove columns that don't provide meaningful data for prediction (like `unique_key`) or have the same data throughout (like `agency`).  Let's take a quick peek at the number of unique values in each column to see if there are obvious candidates for removal:"
   ]
  },
  {
   "cell_type": "markdown",
   "metadata": {
    "colab_type": "text",
    "id": "OTolyHd2zjaf"
   },
   "source": [
    "Let's take another peek at our column information:\n",
    "\n"
   ]
  },
  {
   "cell_type": "code",
   "execution_count": 9,
   "metadata": {
    "colab": {
     "base_uri": "https://localhost:8080/",
     "height": 459
    },
    "colab_type": "code",
    "id": "ss5nb5Jgz2zW",
    "outputId": "402aed40-7a88-43ea-81a3-9c79c2e753ea"
   },
   "outputs": [
    {
     "data": {
      "text/plain": [
       "unique_key                  569331\n",
       "created_date                545184\n",
       "agency                           1\n",
       "agency_name                      1\n",
       "complaint_type                   2\n",
       "descriptor                       1\n",
       "incident_zip                   229\n",
       "cross_street_1                7836\n",
       "cross_street_2                7616\n",
       "address_type                     3\n",
       "city                            89\n",
       "status                           5\n",
       "resolution_description          32\n",
       "community_board                 77\n",
       "borough                          6\n",
       "x_coordinate_state_plane     93761\n",
       "y_coordinate_state_plane    100169\n",
       "open_data_channel_type           4\n",
       "park_facility_name               1\n",
       "park_borough                     6\n",
       "latitude                    216552\n",
       "longitude                   216550\n",
       "location                    216552\n",
       "resolved_date               409230\n",
       "days_to_close                  286\n",
       "dtype: int64"
      ]
     },
     "execution_count": 9,
     "metadata": {},
     "output_type": "execute_result"
    }
   ],
   "source": [
    "potholes.nunique()"
   ]
  },
  {
   "cell_type": "markdown",
   "metadata": {
    "colab_type": "text",
    "id": "8O_qbj8H0M1N"
   },
   "source": [
    "OK, so we can get rid of `agency`, `agency_name`, `descriptor`, and `park_facility_name` for sure!  As stated earlier, `unique_key` doesn't add any useful info, so we can get of it as well.  Location is essentially a duplicate of lat/long, so we can get rid of that column, too.  Unfortunately, we don't have any information about `x_ccordinate_state_plane` and `y_coordinate_state_plane`, so we'll remove them.  There's not much we can do with that data!"
   ]
  },
  {
   "cell_type": "code",
   "execution_count": 10,
   "metadata": {
    "colab": {},
    "colab_type": "code",
    "id": "-3JRfcjm1ZVd"
   },
   "outputs": [],
   "source": [
    "potholes.drop(columns = ['unique_key', 'agency', 'agency_name', 'descriptor', \n",
    "                         'park_facility_name', 'location', 'x_coordinate_state_plane', \n",
    "                         'y_coordinate_state_plane'], inplace = True)"
   ]
  },
  {
   "cell_type": "markdown",
   "metadata": {},
   "source": [
    "Let's look at `complaint_type`, which we expected to just have one value, but seems to have two:"
   ]
  },
  {
   "cell_type": "code",
   "execution_count": 11,
   "metadata": {},
   "outputs": [
    {
     "data": {
      "text/plain": [
       "Street Condition    567427\n",
       "Bridge Condition      1904\n",
       "Name: complaint_type, dtype: int64"
      ]
     },
     "execution_count": 11,
     "metadata": {},
     "output_type": "execute_result"
    }
   ],
   "source": [
    "potholes['complaint_type'].value_counts()"
   ]
  },
  {
   "cell_type": "markdown",
   "metadata": {},
   "source": [
    "OK, that's fair.  Sometimes potholes are on streets, sometimes on bridges.\n",
    "\n",
    "Let's peek at the column data now:"
   ]
  },
  {
   "cell_type": "code",
   "execution_count": 12,
   "metadata": {
    "colab": {
     "base_uri": "https://localhost:8080/",
     "height": 391
    },
    "colab_type": "code",
    "id": "lu1PwsRy16lP",
    "outputId": "6bfbeb6b-49d4-47d3-e26f-7bb634bbfe31"
   },
   "outputs": [
    {
     "name": "stdout",
     "output_type": "stream",
     "text": [
      "<class 'pandas.core.frame.DataFrame'>\n",
      "RangeIndex: 569331 entries, 0 to 569330\n",
      "Data columns (total 17 columns):\n",
      "created_date              569331 non-null datetime64[ns]\n",
      "complaint_type            569331 non-null object\n",
      "incident_zip              525231 non-null float64\n",
      "cross_street_1            462767 non-null object\n",
      "cross_street_2            462702 non-null object\n",
      "address_type              551684 non-null object\n",
      "city                      528650 non-null object\n",
      "status                    569331 non-null object\n",
      "resolution_description    568795 non-null object\n",
      "community_board           569331 non-null object\n",
      "borough                   569331 non-null object\n",
      "open_data_channel_type    569331 non-null object\n",
      "park_borough              569331 non-null object\n",
      "latitude                  521373 non-null float64\n",
      "longitude                 521373 non-null float64\n",
      "resolved_date             569138 non-null datetime64[ns]\n",
      "days_to_close             569138 non-null float64\n",
      "dtypes: datetime64[ns](2), float64(4), object(11)\n",
      "memory usage: 73.8+ MB\n"
     ]
    }
   ],
   "source": [
    "potholes.info()"
   ]
  },
  {
   "cell_type": "markdown",
   "metadata": {},
   "source": [
    "There are many ways a ticket can be resolved.  Let's take a look at them and see if we can make some categories that are easier to read."
   ]
  },
  {
   "cell_type": "code",
   "execution_count": 13,
   "metadata": {},
   "outputs": [
    {
     "name": "stdout",
     "output_type": "stream",
     "text": [
      "['The Department of Transportation inspected this complaint and repaired the problem.'\n",
      " 'The Department of Transportation inspected this complaint and did not find the reported problem.'\n",
      " 'The Department of Transportation referred this complaint to the Inspections Unit for further action.'\n",
      " 'The Department of Transportation determined that this complaint is a duplicate of a previously filed complaint. The original complaint is being addressed.'\n",
      " 'The Department of Transportation inspected this complaint and found that the problem was fixed.'\n",
      " 'The Department of Transportation referred this complaint to the appropriate Maintenance Unit for repair.'\n",
      " 'General maintenance and cleaning is on a regular schedule. The next scheduled maintenance and cleaning will correct the condition.'\n",
      " 'The Department of Transportation has determined that this issue is not within its jurisdiction.'\n",
      " 'The Department of Transportation requires 6 months to respond to this type of complaint.  Please note your Service Request number for future reference.'\n",
      " 'General maintenance and cleaning is on a regular schedule. The next scheduled maintenance and cleani'\n",
      " 'The Department of Transportation has completed the request or corrected the condition.'\n",
      " 'The Department of Transportation inspected this complaint and referred it to the Arterial Division for further action.'\n",
      " 'The Department of Transportation inspected this complaint and found that the defect was not accessible. The repair will be rescheduled.'\n",
      " 'The Department of Transportation fixed all street defects at this location as part of a Capital Project.'\n",
      " 'The condition was inspected and it was in compliance with Department of Transportation standards, not hazardous, or a valid permit exists.'\n",
      " 'The condition has been inspected/investigated, see customer notes for more information.'\n",
      " 'The status of this Service Request is currently not available online. Please call 311 for further assistance. If you are outside of New York City, please call (212) NEW-YORK (212-639-9675).'\n",
      " 'The Department of Transportation assigned this complaint to a field crew for inspection and, if warranted, repair.'\n",
      " \"The Department of Transportation's work on this complaint is still in progress.\"\n",
      " 'The Department of Transportation inspected this complaint and referred it to the Bridge Division for further action.'\n",
      " 'The Department of Transportation inspected and has requested the Department of Environmental Protection address the issue. The condition will be re-inspected in 60 days.'\n",
      " nan\n",
      " 'The Department of Transportation has determined that this issue is not within its jurisdiction. It has been referred to the Department of Parks and Recreation.'\n",
      " 'The Department of Transportation inspected this complaint and will schedule the repair.'\n",
      " 'The request submitted did not have sufficient information for the Department of Transportation to respond.'\n",
      " 'The Department of Transportation has determined that this issue is not within its jurisdiction. It has been referred to the Metropolitan Transportation Authority.'\n",
      " 'Your Service Request has been submitted to the Department of Transportation.  Please check back later for status.'\n",
      " 'The Department of Transportation inspected this complaint and barricaded the area. The issue was referred to another unit for further action.'\n",
      " 'The Department of Transportation inspected the condition and temporary repairs were made to make the area safe. Permanent repairs/restoration will be scheduled as part of a project, seasonal work (April - November), or when work is assigned to a contractor.'\n",
      " \"The condition was inspected and determined not to be under Department of Transportation's jurisdiction. The Department of Transportation notified the appropriate responsible party of the complaint.\"\n",
      " 'The condition was inspected and determined to be under the jurisdiction of another Department of Transportation unit.  The unit has been notified.'\n",
      " \"The condition was inspected and determined not to be under New York City Department of Transportation's jurisdiction. The Department of Transportation notified the New York State Department of Transportation of the complaint.\"\n",
      " 'The Department of Transportation has inspected the complaint and referred it to the Department of Environmental Protection.']\n"
     ]
    }
   ],
   "source": [
    "print(potholes['resolution_description'].unique())"
   ]
  },
  {
   "cell_type": "markdown",
   "metadata": {},
   "source": [
    "I'm going to make a map of possible long descriptions of outcome and shorter descriptions of a few words each:"
   ]
  },
  {
   "cell_type": "code",
   "execution_count": 14,
   "metadata": {},
   "outputs": [
    {
     "data": {
      "text/plain": [
       "{'The Department of Transportation inspected this complaint and repaired the problem.': 'Repaired: Inspected and Repaired',\n",
       " 'The Department of Transportation inspected this complaint and referred it to the Arterial Division for further action.': 'Referred: Arterial',\n",
       " 'The Department of Transportation inspected this complaint and did not find the reported problem.': 'Not Repaired: Did Not Find',\n",
       " 'The Department of Transportation inspected this complaint and found that the problem was fixed.': 'Repaired: Already Complete',\n",
       " 'The Department of Transportation referred this complaint to the Inspections Unit for further action.': 'Referred: Inspections',\n",
       " 'The Department of Transportation determined that this complaint is a duplicate of a previously filed complaint. The original complaint is being addressed.': 'Not Repaired: Duplicate',\n",
       " 'General maintenance and cleaning is on a regular schedule. The next scheduled maintenance and cleaning will correct the condition.': 'Postponed: Future Maintenance Will Fix',\n",
       " 'The Department of Transportation referred this complaint to the appropriate Maintenance Unit for repair.': 'Referred: Maintenance Unit',\n",
       " 'The Department of Transportation has completed the request or corrected the condition.': 'Repaired: Completed or Corrected',\n",
       " 'The Department of Transportation fixed all street defects at this location as part of a Capital Project.': 'Repaired: Capital Project',\n",
       " nan: 'Other: No Description',\n",
       " 'The Department of Transportation inspected this complaint and found that the defect was not accessible. The repair will be rescheduled.': 'Postponed: Inaccessible',\n",
       " 'The Department of Transportation assigned this complaint to a field crew for inspection and, if warranted, repair.': 'Scheduled: Field Crew',\n",
       " 'The Department of Transportation has determined that this issue is not within its jurisdiction.': 'Not Repaired: Not in DOT Jurisdiction (Not Specified)',\n",
       " 'The Department of Transportation inspected and has requested the Department of Environmental Protection address the issue. The condition will be re-inspected in 60 days.': 'Referred: Dept. Environmental Protection, Will Reinspect',\n",
       " 'The condition has been inspected/investigated, see customer notes for more information.': 'Referred: See Customer Notes',\n",
       " 'The status of this Service Request is currently not available online. Please call 311 for further assistance. If you are outside of New York City, please call (212) NEW-YORK (212-639-9675).': 'Other: Status Not Available',\n",
       " 'General maintenance and cleaning is on a regular schedule. The next scheduled maintenance and cleani': 'Postponed: Future Maintenance Will Fix (Incomplete Decription)',\n",
       " 'The Department of Transportation requires 6 months to respond to this type of complaint.  Please note your Service Request number for future reference.': 'Postponed: Requires 6 Months for Response',\n",
       " 'The condition was inspected and it was in compliance with Department of Transportation standards, not hazardous, or a valid permit exists.': 'Not Repaired: Was in Compliance',\n",
       " 'The Department of Transportation inspected this complaint and referred it to the Bridge Division for further action.': 'Referred: Bridges',\n",
       " 'The Department of Transportation has determined that this issue is not within its jurisdiction. It has been referred to the Department of Parks and Recreation.': 'Referred: Parks and Rec',\n",
       " 'The Department of Transportation inspected this complaint and will schedule the repair.': 'Scheduled: DOT',\n",
       " 'The request submitted did not have sufficient information for the Department of Transportation to respond.': 'Referred: MTA',\n",
       " 'The Department of Transportation has determined that this issue is not within its jurisdiction. It has been referred to the Metropolitan Transportation Authority.': 'Not Repaired: Unsufficient Information',\n",
       " 'Your Service Request has been submitted to the Department of Transportation.  Please check back later for status.': 'Other: Check Status',\n",
       " 'The Department of Transportation inspected this complaint and barricaded the area. The issue was referred to another unit for further action.': 'Referred: Barricaded',\n",
       " 'The Department of Transportation inspected the condition and temporary repairs were made to make the area safe. Permanent repairs/restoration will be scheduled as part of a project, seasonal work (April - November), or when work is assigned to a contractor.': 'Repaired: Temporary Repair',\n",
       " \"The condition was inspected and determined not to be under Department of Transportation's jurisdiction. The Department of Transportation notified the appropriate responsible party of the complaint.\": 'Referred: Unspecified',\n",
       " 'The condition was inspected and determined to be under the jurisdiction of another Department of Transportation unit.  The unit has been notified.': 'Referred: Other DOT',\n",
       " \"The Department of Transportation's work on this complaint is still in progress.\": 'Repaired: In Progress',\n",
       " \"The condition was inspected and determined not to be under New York City Department of Transportation's jurisdiction. The Department of Transportation notified the New York State Department of Transportation of the complaint.\": 'Referred: State DOT',\n",
       " 'The Department of Transportation has inspected the complaint and referred it to the Department of Environmental Protection.': 'Referred: Dept. Environmental Protection'}"
      ]
     },
     "execution_count": 14,
     "metadata": {},
     "output_type": "execute_result"
    }
   ],
   "source": [
    "long_descriptions = ['The Department of Transportation inspected this complaint and repaired the problem.',\n",
    "       'The Department of Transportation inspected this complaint and referred it to the Arterial Division for further action.',\n",
    "       'The Department of Transportation inspected this complaint and did not find the reported problem.',\n",
    "       'The Department of Transportation inspected this complaint and found that the problem was fixed.',\n",
    "       'The Department of Transportation referred this complaint to the Inspections Unit for further action.',\n",
    "       'The Department of Transportation determined that this complaint is a duplicate of a previously filed complaint. The original complaint is being addressed.',\n",
    "       'General maintenance and cleaning is on a regular schedule. The next scheduled maintenance and cleaning will correct the condition.',\n",
    "       'The Department of Transportation referred this complaint to the appropriate Maintenance Unit for repair.',\n",
    "       'The Department of Transportation has completed the request or corrected the condition.',\n",
    "       'The Department of Transportation fixed all street defects at this location as part of a Capital Project.',\n",
    "       np.nan,\n",
    "       'The Department of Transportation inspected this complaint and found that the defect was not accessible. The repair will be rescheduled.',\n",
    "       'The Department of Transportation assigned this complaint to a field crew for inspection and, if warranted, repair.',\n",
    "       'The Department of Transportation has determined that this issue is not within its jurisdiction.',\n",
    "       'The Department of Transportation inspected and has requested the Department of Environmental Protection address the issue. The condition will be re-inspected in 60 days.',\n",
    "       'The condition has been inspected/investigated, see customer notes for more information.',\n",
    "       'The status of this Service Request is currently not available online. Please call 311 for further assistance. If you are outside of New York City, please call (212) NEW-YORK (212-639-9675).',\n",
    "       'General maintenance and cleaning is on a regular schedule. The next scheduled maintenance and cleani',\n",
    "       'The Department of Transportation requires 6 months to respond to this type of complaint.  Please note your Service Request number for future reference.',\n",
    "       'The condition was inspected and it was in compliance with Department of Transportation standards, not hazardous, or a valid permit exists.',\n",
    "       'The Department of Transportation inspected this complaint and referred it to the Bridge Division for further action.',\n",
    "       'The Department of Transportation has determined that this issue is not within its jurisdiction. It has been referred to the Department of Parks and Recreation.',\n",
    "       'The Department of Transportation inspected this complaint and will schedule the repair.',\n",
    "       'The request submitted did not have sufficient information for the Department of Transportation to respond.',\n",
    "       'The Department of Transportation has determined that this issue is not within its jurisdiction. It has been referred to the Metropolitan Transportation Authority.',\n",
    "       'Your Service Request has been submitted to the Department of Transportation.  Please check back later for status.',\n",
    "       'The Department of Transportation inspected this complaint and barricaded the area. The issue was referred to another unit for further action.',\n",
    "       'The Department of Transportation inspected the condition and temporary repairs were made to make the area safe. Permanent repairs/restoration will be scheduled as part of a project, seasonal work (April - November), or when work is assigned to a contractor.',\n",
    "       \"The condition was inspected and determined not to be under Department of Transportation's jurisdiction. The Department of Transportation notified the appropriate responsible party of the complaint.\",\n",
    "       'The condition was inspected and determined to be under the jurisdiction of another Department of Transportation unit.  The unit has been notified.',\n",
    "       \"The Department of Transportation's work on this complaint is still in progress.\",\n",
    "       \"The condition was inspected and determined not to be under New York City Department of Transportation's jurisdiction. The Department of Transportation notified the New York State Department of Transportation of the complaint.\",\n",
    "       'The Department of Transportation has inspected the complaint and referred it to the Department of Environmental Protection.']\n",
    "short_descriptions = [\"Repaired: Inspected and Repaired\",\n",
    "                       \"Referred: Arterial\",\n",
    "                       \"Not Repaired: Did Not Find\",\n",
    "                       \"Repaired: Already Complete\",\n",
    "                       \"Referred: Inspections\",\n",
    "                       \"Not Repaired: Duplicate\",\n",
    "                       \"Postponed: Future Maintenance Will Fix\",\n",
    "                       \"Referred: Maintenance Unit\",\n",
    "                       \"Repaired: Completed or Corrected\",\n",
    "                       \"Repaired: Capital Project\",\n",
    "                       \"Other: No Description\",\n",
    "                       \"Postponed: Inaccessible\",\n",
    "                       \"Scheduled: Field Crew\",\n",
    "                       \"Not Repaired: Not in DOT Jurisdiction (Not Specified)\",\n",
    "                       \"Referred: Dept. Environmental Protection, Will Reinspect\",\n",
    "                       \"Referred: See Customer Notes\",\n",
    "                       \"Other: Status Not Available\",\n",
    "                       \"Postponed: Future Maintenance Will Fix (Incomplete Decription)\",\n",
    "                       \"Postponed: Requires 6 Months for Response\",\n",
    "                       \"Not Repaired: Was in Compliance\",\n",
    "                       \"Referred: Bridges\",\n",
    "                       \"Referred: Parks and Rec\",\n",
    "                       \"Scheduled: DOT\",\n",
    "                       \"Referred: MTA\",\n",
    "                       \"Not Repaired: Unsufficient Information\",\n",
    "                       \"Other: Check Status\",\n",
    "                       \"Referred: Barricaded\",\n",
    "                       \"Repaired: Temporary Repair\",\n",
    "                       \"Referred: Unspecified\",\n",
    "                       \"Referred: Other DOT\",\n",
    "                       \"Repaired: In Progress\",\n",
    "                       \"Referred: State DOT\",\n",
    "                       \"Referred: Dept. Environmental Protection\"]\n",
    "desc_map = dict(zip(long_descriptions, short_descriptions))\n",
    "desc_map"
   ]
  },
  {
   "cell_type": "code",
   "execution_count": 15,
   "metadata": {},
   "outputs": [],
   "source": [
    "potholes['shorter_description'] = potholes['resolution_description'].map(desc_map)"
   ]
  },
  {
   "cell_type": "markdown",
   "metadata": {},
   "source": [
    "Did we miss any codes?"
   ]
  },
  {
   "cell_type": "code",
   "execution_count": 16,
   "metadata": {},
   "outputs": [
    {
     "data": {
      "text/plain": [
       "Series([], Name: resolution_description, dtype: object)"
      ]
     },
     "execution_count": 16,
     "metadata": {},
     "output_type": "execute_result"
    }
   ],
   "source": [
    "potholes[potholes['shorter_description'].isna()]['resolution_description']"
   ]
  },
  {
   "cell_type": "markdown",
   "metadata": {},
   "source": [
    "No, we didn't.  Let's delete the longer resolution description and peek at what we have now."
   ]
  },
  {
   "cell_type": "code",
   "execution_count": 17,
   "metadata": {},
   "outputs": [],
   "source": [
    "potholes.drop(columns = \"resolution_description\", inplace=True)"
   ]
  },
  {
   "cell_type": "code",
   "execution_count": 18,
   "metadata": {},
   "outputs": [
    {
     "data": {
      "text/html": [
       "<div>\n",
       "<style scoped>\n",
       "    .dataframe tbody tr th:only-of-type {\n",
       "        vertical-align: middle;\n",
       "    }\n",
       "\n",
       "    .dataframe tbody tr th {\n",
       "        vertical-align: top;\n",
       "    }\n",
       "\n",
       "    .dataframe thead th {\n",
       "        text-align: right;\n",
       "    }\n",
       "</style>\n",
       "<table border=\"1\" class=\"dataframe\">\n",
       "  <thead>\n",
       "    <tr style=\"text-align: right;\">\n",
       "      <th></th>\n",
       "      <th>created_date</th>\n",
       "      <th>complaint_type</th>\n",
       "      <th>incident_zip</th>\n",
       "      <th>cross_street_1</th>\n",
       "      <th>cross_street_2</th>\n",
       "      <th>address_type</th>\n",
       "      <th>city</th>\n",
       "      <th>status</th>\n",
       "      <th>community_board</th>\n",
       "      <th>borough</th>\n",
       "      <th>open_data_channel_type</th>\n",
       "      <th>park_borough</th>\n",
       "      <th>latitude</th>\n",
       "      <th>longitude</th>\n",
       "      <th>resolved_date</th>\n",
       "      <th>days_to_close</th>\n",
       "      <th>shorter_description</th>\n",
       "    </tr>\n",
       "  </thead>\n",
       "  <tbody>\n",
       "    <tr>\n",
       "      <th>0</th>\n",
       "      <td>2016-11-01 15:01:46</td>\n",
       "      <td>Street Condition</td>\n",
       "      <td>NaN</td>\n",
       "      <td>AVENUE M</td>\n",
       "      <td>AVENUE N</td>\n",
       "      <td>BLOCKFACE</td>\n",
       "      <td>NaN</td>\n",
       "      <td>Closed</td>\n",
       "      <td>Unspecified BROOKLYN</td>\n",
       "      <td>BROOKLYN</td>\n",
       "      <td>UNKNOWN</td>\n",
       "      <td>BROOKLYN</td>\n",
       "      <td>NaN</td>\n",
       "      <td>NaN</td>\n",
       "      <td>2016-11-02 09:45:00</td>\n",
       "      <td>1.0</td>\n",
       "      <td>Repaired: Inspected and Repaired</td>\n",
       "    </tr>\n",
       "    <tr>\n",
       "      <th>1</th>\n",
       "      <td>2019-04-01 22:22:27</td>\n",
       "      <td>Street Condition</td>\n",
       "      <td>10306.0</td>\n",
       "      <td>JACQUES AVENUE</td>\n",
       "      <td>NEW DORP LANE</td>\n",
       "      <td>ADDRESS</td>\n",
       "      <td>STATEN ISLAND</td>\n",
       "      <td>Closed</td>\n",
       "      <td>02 STATEN ISLAND</td>\n",
       "      <td>STATEN ISLAND</td>\n",
       "      <td>UNKNOWN</td>\n",
       "      <td>STATEN ISLAND</td>\n",
       "      <td>40.572961</td>\n",
       "      <td>-74.113157</td>\n",
       "      <td>2019-04-02 10:51:00</td>\n",
       "      <td>1.0</td>\n",
       "      <td>Not Repaired: Did Not Find</td>\n",
       "    </tr>\n",
       "    <tr>\n",
       "      <th>2</th>\n",
       "      <td>2013-01-09 11:20:10</td>\n",
       "      <td>Street Condition</td>\n",
       "      <td>NaN</td>\n",
       "      <td>DELANCEY STREET</td>\n",
       "      <td>WILLIAMSBURG BRIDGE</td>\n",
       "      <td>BLOCKFACE</td>\n",
       "      <td>NEW YORK</td>\n",
       "      <td>Closed</td>\n",
       "      <td>Unspecified MANHATTAN</td>\n",
       "      <td>MANHATTAN</td>\n",
       "      <td>UNKNOWN</td>\n",
       "      <td>MANHATTAN</td>\n",
       "      <td>NaN</td>\n",
       "      <td>NaN</td>\n",
       "      <td>2013-01-10 14:04:00</td>\n",
       "      <td>1.0</td>\n",
       "      <td>Repaired: Inspected and Repaired</td>\n",
       "    </tr>\n",
       "    <tr>\n",
       "      <th>3</th>\n",
       "      <td>2013-01-10 14:45:07</td>\n",
       "      <td>Street Condition</td>\n",
       "      <td>11101.0</td>\n",
       "      <td>40 AVENUE</td>\n",
       "      <td>41 AVENUE</td>\n",
       "      <td>BLOCKFACE</td>\n",
       "      <td>Long Island City</td>\n",
       "      <td>Closed</td>\n",
       "      <td>Unspecified QUEENS</td>\n",
       "      <td>QUEENS</td>\n",
       "      <td>UNKNOWN</td>\n",
       "      <td>QUEENS</td>\n",
       "      <td>NaN</td>\n",
       "      <td>NaN</td>\n",
       "      <td>2013-01-11 10:20:00</td>\n",
       "      <td>1.0</td>\n",
       "      <td>Repaired: Inspected and Repaired</td>\n",
       "    </tr>\n",
       "    <tr>\n",
       "      <th>4</th>\n",
       "      <td>2019-03-29 07:05:49</td>\n",
       "      <td>Street Condition</td>\n",
       "      <td>10025.0</td>\n",
       "      <td>WEST  105 STREET</td>\n",
       "      <td>WEST  106 STREET</td>\n",
       "      <td>ADDRESS</td>\n",
       "      <td>NEW YORK</td>\n",
       "      <td>Closed</td>\n",
       "      <td>07 MANHATTAN</td>\n",
       "      <td>MANHATTAN</td>\n",
       "      <td>UNKNOWN</td>\n",
       "      <td>MANHATTAN</td>\n",
       "      <td>40.798200</td>\n",
       "      <td>-73.961809</td>\n",
       "      <td>2019-03-30 20:00:00</td>\n",
       "      <td>1.0</td>\n",
       "      <td>Repaired: Inspected and Repaired</td>\n",
       "    </tr>\n",
       "  </tbody>\n",
       "</table>\n",
       "</div>"
      ],
      "text/plain": [
       "         created_date    complaint_type  incident_zip    cross_street_1  \\\n",
       "0 2016-11-01 15:01:46  Street Condition           NaN          AVENUE M   \n",
       "1 2019-04-01 22:22:27  Street Condition       10306.0    JACQUES AVENUE   \n",
       "2 2013-01-09 11:20:10  Street Condition           NaN   DELANCEY STREET   \n",
       "3 2013-01-10 14:45:07  Street Condition       11101.0         40 AVENUE   \n",
       "4 2019-03-29 07:05:49  Street Condition       10025.0  WEST  105 STREET   \n",
       "\n",
       "        cross_street_2 address_type              city  status  \\\n",
       "0             AVENUE N    BLOCKFACE               NaN  Closed   \n",
       "1        NEW DORP LANE      ADDRESS     STATEN ISLAND  Closed   \n",
       "2  WILLIAMSBURG BRIDGE    BLOCKFACE          NEW YORK  Closed   \n",
       "3            41 AVENUE    BLOCKFACE  Long Island City  Closed   \n",
       "4     WEST  106 STREET      ADDRESS          NEW YORK  Closed   \n",
       "\n",
       "         community_board        borough open_data_channel_type   park_borough  \\\n",
       "0   Unspecified BROOKLYN       BROOKLYN                UNKNOWN       BROOKLYN   \n",
       "1       02 STATEN ISLAND  STATEN ISLAND                UNKNOWN  STATEN ISLAND   \n",
       "2  Unspecified MANHATTAN      MANHATTAN                UNKNOWN      MANHATTAN   \n",
       "3     Unspecified QUEENS         QUEENS                UNKNOWN         QUEENS   \n",
       "4           07 MANHATTAN      MANHATTAN                UNKNOWN      MANHATTAN   \n",
       "\n",
       "    latitude  longitude       resolved_date  days_to_close  \\\n",
       "0        NaN        NaN 2016-11-02 09:45:00            1.0   \n",
       "1  40.572961 -74.113157 2019-04-02 10:51:00            1.0   \n",
       "2        NaN        NaN 2013-01-10 14:04:00            1.0   \n",
       "3        NaN        NaN 2013-01-11 10:20:00            1.0   \n",
       "4  40.798200 -73.961809 2019-03-30 20:00:00            1.0   \n",
       "\n",
       "                shorter_description  \n",
       "0  Repaired: Inspected and Repaired  \n",
       "1        Not Repaired: Did Not Find  \n",
       "2  Repaired: Inspected and Repaired  \n",
       "3  Repaired: Inspected and Repaired  \n",
       "4  Repaired: Inspected and Repaired  "
      ]
     },
     "execution_count": 18,
     "metadata": {},
     "output_type": "execute_result"
    }
   ],
   "source": [
    "potholes.head()"
   ]
  },
  {
   "cell_type": "markdown",
   "metadata": {
    "colab_type": "text",
    "id": "CgHIskWRpZen"
   },
   "source": [
    "Great, we now have a compact DataFrame with not very many missing values and not a lot of duplication of data across columns.  Let's save that data!  Note that we have to use git LFS (Large File Storage) to handle the storage of this large CSV on GitHub.  See https://git-lfs.github.com for more information on how to do this!"
   ]
  },
  {
   "cell_type": "code",
   "execution_count": 19,
   "metadata": {
    "colab": {},
    "colab_type": "code",
    "id": "NiDNseIu22XW"
   },
   "outputs": [],
   "source": [
    "potholes.to_csv(\"../data/cleaned_311_pothole_data.csv\", index=False)"
   ]
  }
 ],
 "metadata": {
  "colab": {
   "collapsed_sections": [],
   "name": "Ingesting and Preparing.ipynb",
   "provenance": [],
   "version": "0.3.2"
  },
  "kernelspec": {
   "display_name": "Python 3",
   "language": "python",
   "name": "python3"
  },
  "language_info": {
   "codemirror_mode": {
    "name": "ipython",
    "version": 3
   },
   "file_extension": ".py",
   "mimetype": "text/x-python",
   "name": "python",
   "nbconvert_exporter": "python",
   "pygments_lexer": "ipython3",
   "version": "3.7.1"
  }
 },
 "nbformat": 4,
 "nbformat_minor": 1
}
